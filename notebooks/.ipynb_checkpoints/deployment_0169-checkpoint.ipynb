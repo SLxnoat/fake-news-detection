{
 "cells": [
  {
   "cell_type": "code",
   "execution_count": 9,
   "id": "b34f20ff-c734-4948-a618-e84811437331",
   "metadata": {},
   "outputs": [
    {
     "name": "stdout",
     "output_type": "stream",
     "text": [
      "Day 3: Deployment Infrastructure\n",
      "Member 0169 - Model Evaluation & Deployment\n"
     ]
    }
   ],
   "source": [
    "#Setup\n",
    "import sys\n",
    "import os\n",
    "import pandas as pd\n",
    "import numpy as np\n",
    "\n",
    "# Add the deployment directory to path\n",
    "deployment_dir = os.path.abspath(os.path.join(os.getcwd(), '../src/deployment'))\n",
    "sys.path.append(deployment_dir)\n",
    "\n",
    "# Corrected imports\n",
    "from model_deployment_0169 import ModelDeployment\n",
    "from inference_pipeline_0169 import InferencePipeline\n",
    "\n",
    "print(\"Day 3: Deployment Infrastructure\")\n",
    "print(\"Member 0169 - Model Evaluation & Deployment\")"
   ]
  },
  {
   "cell_type": "code",
   "execution_count": 10,
   "id": "6d653e0d-1d98-47e7-bd49-1b03b462bdb8",
   "metadata": {},
   "outputs": [
    {
     "name": "stderr",
     "output_type": "stream",
     "text": [
      "WARNING:model_deployment_0169:Model file not found: ../models\\baseline/tfidf_logistic.pkl\n",
      "WARNING:model_deployment_0169:Model file not found: ../models\\baseline/tfidf_rf.pkl\n",
      "WARNING:model_deployment_0169:Model file not found: ../models\\hybrid/best_hybrid_model.pth\n",
      "INFO:model_deployment_0169:Loaded 0 models successfully\n",
      "WARNING:model_deployment_0169:Preprocessor not found: ../models\\preprocessors/text_preprocessor.pkl\n",
      "WARNING:model_deployment_0169:Preprocessor not found: ../models\\preprocessors/tfidf_vectorizer.pkl\n",
      "WARNING:model_deployment_0169:Preprocessor not found: ../models\\preprocessors/metadata_processor.pkl\n"
     ]
    },
    {
     "name": "stdout",
     "output_type": "stream",
     "text": [
      "Testing model deployment system...\n",
      "Models loaded: 0\n",
      "Preprocessors loaded: 0\n",
      "\n",
      "System Info:\n",
      "{'loaded_models': 0, 'loaded_preprocessors': 0, 'models': {}}\n"
     ]
    }
   ],
   "source": [
    "#Test Model Deployment\n",
    "# Initialize deployment system\n",
    "deployment = ModelDeployment('../models')\n",
    "\n",
    "print(\"Testing model deployment system...\")\n",
    "\n",
    "# Try to load models (they may not exist yet)\n",
    "models_loaded = deployment.load_all_models()\n",
    "print(f\"Models loaded: {models_loaded}\")\n",
    "\n",
    "# Load preprocessors\n",
    "preprocessors_loaded = deployment.load_preprocessors()\n",
    "print(f\"Preprocessors loaded: {preprocessors_loaded}\")\n",
    "\n",
    "# Get system info\n",
    "model_info = deployment.get_model_info()\n",
    "print(\"\\nSystem Info:\")\n",
    "print(model_info)"
   ]
  },
  {
   "cell_type": "code",
   "execution_count": 11,
   "id": "954a8168-e692-4ba4-9f43-175e7d099438",
   "metadata": {},
   "outputs": [
    {
     "name": "stderr",
     "output_type": "stream",
     "text": [
      "INFO:inference_pipeline_0169:Initializing inference pipeline...\n",
      "WARNING:model_deployment_0169:Model file not found: ../models\\baseline/tfidf_logistic.pkl\n",
      "WARNING:model_deployment_0169:Model file not found: ../models\\baseline/tfidf_rf.pkl\n",
      "WARNING:model_deployment_0169:Model file not found: ../models\\hybrid/best_hybrid_model.pth\n",
      "INFO:model_deployment_0169:Loaded 0 models successfully\n",
      "WARNING:model_deployment_0169:Preprocessor not found: ../models\\preprocessors/text_preprocessor.pkl\n",
      "WARNING:model_deployment_0169:Preprocessor not found: ../models\\preprocessors/tfidf_vectorizer.pkl\n",
      "WARNING:model_deployment_0169:Preprocessor not found: ../models\\preprocessors/metadata_processor.pkl\n",
      "INFO:inference_pipeline_0169:Loaded 0 models and 0 preprocessors\n",
      "INFO:inference_pipeline_0169:Health check status: healthy\n"
     ]
    },
    {
     "name": "stdout",
     "output_type": "stream",
     "text": [
      "Inference Pipeline Initialization:\n",
      "{'models_loaded': 0, 'preprocessors_loaded': 0, 'health_status': 'healthy'}\n",
      "\n",
      "Testing prediction with: 'The economy is performing better than expected this quarter.'\n",
      "Prediction Result:\n",
      "{'error': 'No models loaded', 'performance': {'response_time': 0.0, 'timestamp': 1755422934.8994744}}\n"
     ]
    }
   ],
   "source": [
    "# Test Inference Pipeline\n",
    "# Initialize inference pipeline\n",
    "pipeline = InferencePipeline('../models')\n",
    "init_result = pipeline.initialize()\n",
    "\n",
    "print(\"Inference Pipeline Initialization:\")\n",
    "print(init_result)\n",
    "\n",
    "# Test prediction (may fail if no models are loaded)\n",
    "test_statement = \"The economy is performing better than expected this quarter.\"\n",
    "\n",
    "print(f\"\\nTesting prediction with: '{test_statement}'\")\n",
    "result = pipeline.predict(test_statement, speaker=\"Test Speaker\", use_ensemble=True)\n",
    "\n",
    "print(\"Prediction Result:\")\n",
    "print(result)"
   ]
  },
  {
   "cell_type": "code",
   "execution_count": 12,
   "id": "658dc82c-7f05-4cea-845d-8d5fcc14a26b",
   "metadata": {},
   "outputs": [
    {
     "name": "stderr",
     "output_type": "stream",
     "text": [
      "INFO:inference_pipeline_0169:Processing batch of 5 statements\n"
     ]
    },
    {
     "name": "stdout",
     "output_type": "stream",
     "text": [
      "Testing batch prediction...\n",
      "Processed 5 statements\n",
      "Statement 1: Error (Confidence: 0.000)\n",
      "Statement 2: Error (Confidence: 0.000)\n",
      "Statement 3: Error (Confidence: 0.000)\n",
      "Statement 4: Error (Confidence: 0.000)\n",
      "Statement 5: Error (Confidence: 0.000)\n"
     ]
    }
   ],
   "source": [
    "#Performance Testing\n",
    "# Test batch predictions\n",
    "test_statements = [\n",
    "    {\"statement\": \"The unemployment rate has decreased by 5%\", \"speaker\": \"Politician A\"},\n",
    "    {\"statement\": \"Climate change is not real\", \"speaker\": \"Politician B\"},\n",
    "    {\"statement\": \"Healthcare costs have increased significantly\", \"speaker\": \"Expert C\"},\n",
    "    {\"statement\": \"The new policy will benefit everyone\", \"speaker\": \"Official D\"},\n",
    "    {\"statement\": \"Crime rates are at an all-time low\", \"speaker\": \"Police Chief\"}\n",
    "]\n",
    "\n",
    "print(\"Testing batch prediction...\")\n",
    "batch_results = pipeline.batch_predict(test_statements)\n",
    "\n",
    "print(f\"Processed {len(batch_results)} statements\")\n",
    "for i, result in enumerate(batch_results):\n",
    "    print(f\"Statement {i+1}: {result.get('prediction', 'Error')} \"\n",
    "          f\"(Confidence: {result.get('confidence', 0):.3f})\")"
   ]
  },
  {
   "cell_type": "code",
   "execution_count": 13,
   "id": "ddfff400-7d45-4353-8638-207635cd2bc1",
   "metadata": {},
   "outputs": [
    {
     "name": "stdout",
     "output_type": "stream",
     "text": [
      "Performance Statistics:\n",
      "Total Predictions: 6\n",
      "Success Rate: 0.000\n",
      "Average Response Time: 0.000s\n",
      "\n",
      "System Health: healthy\n"
     ]
    },
    {
     "data": {
      "image/png": "[encoded data removed]",
      "text/plain": [
       "<Figure size 800x600 with 1 Axes>"
      ]
     },
     "metadata": {},
     "output_type": "display_data"
    }
   ],
   "source": [
    "# Performance Monitoring\n",
    "# Get performance statistics\n",
    "stats = pipeline.get_performance_stats()\n",
    "\n",
    "print(\"Performance Statistics:\")\n",
    "print(f\"Total Predictions: {stats['total_predictions']}\")\n",
    "print(f\"Success Rate: {stats['success_rate']:.3f}\")\n",
    "print(f\"Average Response Time: {stats['average_response_time']:.3f}s\")\n",
    "\n",
    "# Health check\n",
    "health = pipeline.deployment.health_check()\n",
    "print(f\"\\nSystem Health: {health['status']}\")\n",
    "\n",
    "# Visualize performance if we have data\n",
    "if stats['total_predictions'] > 0:\n",
    "    import matplotlib.pyplot as plt\n",
    "    \n",
    "    # Create simple performance visualization\n",
    "    metrics = ['Success Rate', 'Failure Rate']\n",
    "    values = [stats['success_rate'], stats['failure_rate']]\n",
    "    \n",
    "    plt.figure(figsize=(8, 6))\n",
    "    plt.bar(metrics, values, color=['green', 'red'], alpha=0.7)\n",
    "    plt.title('System Performance Overview')\n",
    "    plt.ylabel('Rate')\n",
    "    plt.ylim(0, 1)\n",
    "    \n",
    "    for i, v in enumerate(values):\n",
    "        plt.text(i, v + 0.05, f'{v:.3f}', ha='center', va='bottom')\n",
    "    \n",
    "    plt.tight_layout()\n",
    "    plt.savefig('../results/plots/performance_overview_day3.png', dpi=300, bbox_inches='tight')\n",
    "    plt.show()"
   ]
  },
  {
   "cell_type": "code",
   "execution_count": null,
   "id": "9ab3c263-c3cb-4a5d-b24b-4abab9a631dc",
   "metadata": {},
   "outputs": [],
   "source": []
  }
 ],
 "metadata": {
  "kernelspec": {
   "display_name": "Python 3 (ipykernel)",
   "language": "python",
   "name": "python3"
  },
  "language_info": {
   "codemirror_mode": {
    "name": "ipython",
    "version": 3
   },
   "file_extension": ".py",
   "mimetype": "text/x-python",
   "name": "python",
   "nbconvert_exporter": "python",
   "pygments_lexer": "ipython3",
   "version": "3.12.11"
  }
 },
 "nbformat": 4,
 "nbformat_minor": 5
}
