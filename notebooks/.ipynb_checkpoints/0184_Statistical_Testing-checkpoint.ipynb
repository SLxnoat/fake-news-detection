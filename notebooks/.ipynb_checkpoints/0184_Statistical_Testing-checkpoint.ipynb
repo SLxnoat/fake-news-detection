{
 "cells": [
  {
   "cell_type": "code",
   "execution_count": 1,
   "id": "752f2223-d5db-4d65-b8bb-febff41e9fac",
   "metadata": {},
   "outputs": [],
   "source": [
    "import pandas as pd\n",
    "import numpy as np\n",
    "import matplotlib.pyplot as plt\n",
    "import seaborn as sns\n",
    "from scipy import stats\n",
    "from scipy.stats import chi2_contingency, ttest_ind, f_oneway, pearsonr\n",
    "import plotly.express as px\n",
    "import plotly.graph_objects as go\n",
    "from plotly.subplots import make_subplots"
   ]
  },
  {
   "cell_type": "code",
   "execution_count": 2,
   "id": "6b451dbb-f196-467b-96a0-89c11adef6be",
   "metadata": {},
   "outputs": [
    {
     "name": "stdout",
     "output_type": "stream",
     "text": [
      "============================================================\n",
      "STATISTICAL TESTING & SIGNIFICANCE ANALYSIS\n",
      "Member: ITBIN-2211-0184\n",
      "Time: 11:00 AM - 1:00 PM\n",
      "============================================================\n"
     ]
    }
   ],
   "source": [
    "print(\"=\"*60)\n",
    "print(\"STATISTICAL TESTING & SIGNIFICANCE ANALYSIS\")\n",
    "print(\"Member: ITBIN-2211-0184\")\n",
    "print(\"Time: 11:00 AM - 1:00 PM\")\n",
    "print(\"=\"*60)"
   ]
  },
  {
   "cell_type": "code",
   "execution_count": 3,
   "id": "004aec39-a65c-4d3d-9ac9-148cc5f0a9f3",
   "metadata": {},
   "outputs": [
    {
     "ename": "SyntaxError",
     "evalue": "unterminated string literal (detected at line 169) (2954275967.py, line 169)",
     "output_type": "error",
     "traceback": [
      "  \u001b[36mCell\u001b[39m\u001b[36m \u001b[39m\u001b[32mIn[3]\u001b[39m\u001b[32m, line 169\u001b[39m\n\u001b[31m    \u001b[39m\u001b[31maxes[0,2].set_ylabel('F-stat\u001b[39m\n                         ^\n\u001b[31mSyntaxError\u001b[39m\u001b[31m:\u001b[39m unterminated string literal (detected at line 169)\n"
     ]
    }
   ],
   "source": [
    "def visualize_statistical_tests(df, test_results):\n",
    "    \"\"\"Create visualizations for statistical test results\"\"\"\n",
    "    print(\"\\n📊 Creating statistical test visualizations...\")\n",
    "    \n",
    "    fig, axes = plt.subplots(2, 3, figsize=(18, 12))\n",
    "    fig.suptitle('Statistical Significance Test Results', fontsize=16, fontweight='bold')\n",
    "    \n",
    "    # 1. Party affiliation vs Label heatmap\n",
    "    party_label_crosstab = pd.crosstab(df['party_affiliation'], df['label'], normalize='index')\n",
    "    top_parties = df['party_affiliation'].value_counts().head(10).index\n",
    "    party_subset = party_label_crosstab.loc[top_parties]\n",
    "    \n",
    "    sns.heatmap(party_subset, annot=True, cmap='YlOrRd', ax=axes[0,0], fmt='.3f')\n",
    "    axes[0,0].set_title(f'Party vs Label Distribution\\n(χ²={test_results[\"chi2_party\"][\"statistic\"]:.2f}, p={test_results[\"chi2_party\"][\"p_value\"]:.2e})')\n",
    "    axes[0,0].set_xlabel('Truth Label')\n",
    "    axes[0,0].set_ylabel('Party Affiliation')\n",
    "    \n",
    "    # 2. Subject vs Label heatmap (top subjects)\n",
    "    subject_label_crosstab = pd.crosstab(df['subject'], df['label'], normalize='index')\n",
    "    top_subjects = df['subject'].value_counts().head(8).index\n",
    "    subject_subset = subject_label_crosstab.loc[top_subjects]\n",
    "    \n",
    "    sns.heatmap(subject_subset, annot=True, cmap='YlGnBu', ax=axes[0,1], fmt='.3f')\n",
    "    axes[0,1].set_title(f'Subject vs Label Distribution\\n(χ²={test_results[\"chi2_subject\"][\"statistic\"]:.2f})')\n",
    "    axes[0,1].set_xlabel('Truth Label')\n",
    "    axes[0,1].set_ylabel('Subject')\n",
    "    \n",
    "    # 3. ANOVA F-statistics\n",
    "    anova_features = [k for k in test_results.keys() if k.startswith('anova_')]\n",
    "    anova_names = [k.replace('anova_', '') for k in anova_features]\n",
    "    anova_f_stats = [test_results[k]['f_statistic'] for k in anova_features]\n",
    "    anova_p_vals = [test_results[k]['p_value'] for k in anova_features]\n",
    "    \n",
    "    colors = ['red' if p < 0.05 else 'blue' for p in anova_p_vals]\n",
    "    bars = axes[0,2].bar(range(len(anova_names)), anova_f_stats, color=colors, alpha=0.7)\n",
    "    axes[0,2].set_xticks(range(len(anova_names)))\n",
    "    axes[0,2].set_xticklabels(anova_names, rotation=45, ha='right')\n",
    "    axes[0,2].set_title('ANOVA F-statistics\\n(Red = Significant)')\n",
    "    axes[0,2].set_ylabel('F-statistic')  # FIXED THE UNTERMINATED STRING HERE\n",
    "    \n",
    "    # Add p-value annotations\n",
    "    for i, (bar, p_val) in enumerate(zip(bars, anova_p_vals)):\n",
    "        height = bar.get_height()\n",
    "        axes[0,2].text(i, height + 0.5, f'p={p_val:.2e}', ha='center', fontsize=9)\n",
    "    \n",
    "    # 4. T-test results visualization\n",
    "    ttest_features = [k for k in test_results.keys() if k.startswith('ttest_')]\n",
    "    ttest_names = [k.replace('ttest_', '') for k in ttest_features]\n",
    "    ttest_stats = [test_results[k]['t_statistic'] for k in ttest_features]\n",
    "    ttest_p_vals = [test_results[k]['p_value'] for k in ttest_features]\n",
    "    \n",
    "    colors = ['red' if p < 0.05 else 'blue' for p in ttest_p_vals]\n",
    "    axes[1,0].bar(range(len(ttest_names)), ttest_stats, color=colors, alpha=0.7)\n",
    "    axes[1,0].set_xticks(range(len(ttest_names)))\n",
    "    axes[1,0].set_xticklabels(ttest_names, rotation=45, ha='right')\n",
    "    axes[1,0].set_title('T-test Statistics\\n(True vs False Statements)')\n",
    "    axes[1,0].set_ylabel('T-statistic')\n",
    "    \n",
    "    # 5. Correlation visualization\n",
    "    corr_features = [k for k in test_results.keys() if k.startswith('corr_')]\n",
    "    corr_names = [k.replace('corr_', '').replace('_truth', '') for k in corr_features]\n",
    "    corr_coeffs = [test_results[k]['correlation'] for k in corr_features]\n",
    "    corr_p_vals = [test_results[k]['p_value'] for k in corr_features]\n",
    "    \n",
    "    # Create a bar plot for correlations\n",
    "    bars = axes[1,1].bar(range(len(corr_names)), corr_coeffs, color='purple', alpha=0.7)\n",
    "    axes[1,1].set_xticks(range(len(corr_names)))\n",
    "    axes[1,1].set_xticklabels(corr_names, rotation=45, ha='right')\n",
    "    axes[1,1].set_title('Feature Correlations with Truth Score')\n",
    "    axes[1,1].set_ylabel('Pearson Correlation Coefficient')\n",
    "    axes[1,1].axhline(0, color='gray', linestyle='--')\n",
    "    \n",
    "    # Add significance markers\n",
    "    for i, (bar, p_val) in enumerate(zip(bars, corr_p_vals)):\n",
    "        if p_val < 0.05:\n",
    "            axes[1,1].text(i, bar.get_height() + 0.02, '*', ha='center', fontsize=14, color='red')\n",
    "    \n",
    "    # 6. P-value summary\n",
    "    all_tests = [('Chi-square', 'chi2_party'), ('Chi-square', 'chi2_subject')] + \\\n",
    "                [(name, key) for key, name in zip(anova_features, anova_names)] + \\\n",
    "                [(name, key) for key, name in zip(ttest_features, ttest_names)] + \\\n",
    "                [(name, key) for key, name in zip(corr_features, corr_names)]\n",
    "    \n",
    "    test_names = [t[0] for t in all_tests]\n",
    "    p_values = [test_results[t[1]]['p_value'] for t in all_tests]\n",
    "    \n",
    "    # Create -log10(p-value) for visualization\n",
    "    log_p_values = [-np.log10(p) if p > 0 else 20 for p in p_values]\n",
    "    \n",
    "    axes[1,2].barh(range(len(test_names)), log_p_values, color='teal', alpha=0.7)\n",
    "    axes[1,2].set_yticks(range(len(test_names)))\n",
    "    axes[1,2].set_yticklabels(test_names)\n",
    "    axes[1,2].set_title('Statistical Significance Summary')\n",
    "    axes[1,2].set_xlabel('-log10(p-value)')\n",
    "    axes[1,2].axvline(-np.log10(0.05), color='red', linestyle='--', label='p=0.05')\n",
    "    axes[1,2].legend()\n",
    "    \n",
    "    plt.tight_layout()\n",
    "    plt.subplots_adjust(top=0.92)\n",
    "    plt.savefig('results/plots/statistical_tests_summary.png', dpi=300, bbox_inches='tight')\n",
    "    print(\"Statistical test visualizations saved to 'results/plots/statistical_tests_summary.png'\")\n",
    "    plt.show()"
   ]
  },
  {
   "cell_type": "code",
   "execution_count": null,
   "id": "64869d1e-418b-4869-bb76-f3d04ac7c00d",
   "metadata": {},
   "outputs": [],
   "source": []
  }
 ],
 "metadata": {
  "kernelspec": {
   "display_name": "Python 3 (ipykernel)",
   "language": "python",
   "name": "python3"
  },
  "language_info": {
   "codemirror_mode": {
    "name": "ipython",
    "version": 3
   },
   "file_extension": ".py",
   "mimetype": "text/x-python",
   "name": "python",
   "nbconvert_exporter": "python",
   "pygments_lexer": "ipython3",
   "version": "3.12.11"
  }
 },
 "nbformat": 4,
 "nbformat_minor": 5
}
