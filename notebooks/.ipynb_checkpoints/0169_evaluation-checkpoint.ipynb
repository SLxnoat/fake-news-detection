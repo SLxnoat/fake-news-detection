{
 "cells": [
  {
   "cell_type": "code",
   "execution_count": 4,
   "id": "a1a14965-cf68-4233-8a32-362178c3bdb5",
   "metadata": {},
   "outputs": [],
   "source": [
    "import pickle\n",
    "import numpy as np\n",
    "import matplotlib.pyplot as plt\n",
    "import seaborn as sns\n",
    "\n",
    "from sklearn.metrics import accuracy_score, precision_score, recall_score, f1_score, confusion_matrix, classification_report\n"
   ]
  },
  {
   "cell_type": "code",
   "execution_count": 5,
   "id": "7e814db6-9aa1-482b-9e52-8e85197a27bd",
   "metadata": {},
   "outputs": [],
   "source": [
    "## Imports\n",
    "\n",
    "import pandas as pd\n",
    "import numpy as np\n",
    "import pickle\n",
    "import matplotlib.pyplot as plt\n",
    "import seaborn as sns\n",
    "import torch\n",
    "\n",
    "from sklearn.metrics import accuracy_score, precision_recall_fscore_support, confusion_matrix, classification_report\n",
    "\n"
   ]
  },
  {
   "cell_type": "code",
   "execution_count": 7,
   "id": "f31feeed-0810-46d5-ab2c-cf1c54df9a47",
   "metadata": {},
   "outputs": [
    {
     "ename": "IndentationError",
     "evalue": "unexpected indent (258720186.py, line 3)",
     "output_type": "error",
     "traceback": [
      "  \u001b[36mCell\u001b[39m\u001b[36m \u001b[39m\u001b[32mIn[7]\u001b[39m\u001b[32m, line 3\u001b[39m\n\u001b[31m    \u001b[39m\u001b[31mtest_df = pd.read_csv(\"../data/test_clean.tsv\", sep=\"\\t\")\u001b[39m\n    ^\n\u001b[31mIndentationError\u001b[39m\u001b[31m:\u001b[39m unexpected indent\n"
     ]
    }
   ],
   "source": [
    "## Load Data\n",
    "\n",
    " test_df = pd.read_csv(\"../data/test_clean.tsv\", sep=\"\\t\")\n",
    "except:\n",
    "    test_df = pd.read_csv(\"../data/raw/test.tsv\", sep=\"\\t\")\n",
    "    if \"clean_statement\" not in test_df.columns:\n",
    "        test_df[\"clean_statement\"] = test_df[\"statement\"]\n",
    "\n",
    "X_test = test_df[\"clean_statement\"]\n",
    "y_test = test_df[\"label\"]\n",
    "\n",
    "print(\"Test shape:\", test_df.shape)\n",
    "print(\"Labels:\", test_df['label'].unique())\n"
   ]
  },
  {
   "cell_type": "code",
   "execution_count": null,
   "id": "c0bebd7c-ff80-44df-98c5-36b68943d1b7",
   "metadata": {},
   "outputs": [],
   "source": []
  }
 ],
 "metadata": {
  "kernelspec": {
   "display_name": "Python 3 (ipykernel)",
   "language": "python",
   "name": "python3"
  },
  "language_info": {
   "codemirror_mode": {
    "name": "ipython",
    "version": 3
   },
   "file_extension": ".py",
   "mimetype": "text/x-python",
   "name": "python",
   "nbconvert_exporter": "python",
   "pygments_lexer": "ipython3",
   "version": "3.12.11"
  }
 },
 "nbformat": 4,
 "nbformat_minor": 5
}
