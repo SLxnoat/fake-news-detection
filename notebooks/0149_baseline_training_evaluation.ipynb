{
 "cells": [
  {
   "cell_type": "code",
   "execution_count": 1,
   "id": "b4999d57-376c-4a80-ad23-af8ce7cf4c22",
   "metadata": {},
   "outputs": [
    {
     "name": "stdout",
     "output_type": "stream",
     "text": [
      "=== MEMBER 0149: BASELINE MODELS TRAINING & EVALUATION ===\n",
      "ITBIN-2211-0149 - Fake News Detection Project\n",
      "------------------------------------------------------------\n"
     ]
    }
   ],
   "source": [
    "# Member 0149 - Complete Baseline Model Training and Evaluation\n",
    "import sys\n",
    "import os\n",
    "sys.path.append(os.path.join(os.getcwd(), '../src'))\n",
    "\n",
    "import pandas as pd\n",
    "import numpy as np\n",
    "import matplotlib.pyplot as plt\n",
    "import warnings\n",
    "warnings.filterwarnings('ignore')\n",
    "\n",
    "# Import our custom modules\n",
    "from models import baseline_models_0149  # Import the module\n",
    "from evaluation import model_evaluator_0149  # Import the module\n",
    "\n",
    "# Now access the classes\n",
    "from models.baseline_models_0149 import BaselineModels\n",
    "from evaluation.model_evaluator_0149 import ModelEvaluator\n",
    "\n",
    "print(\"=== MEMBER 0149: BASELINE MODELS TRAINING & EVALUATION ===\")\n",
    "print(\"ITBIN-2211-0149 - Fake News Detection Project\")\n",
    "print(\"-\" * 60)"
   ]
  },
  {
   "cell_type": "code",
   "execution_count": 2,
   "id": "f580465a-024d-4798-98e8-e21d18542b79",
   "metadata": {},
   "outputs": [
    {
     "name": "stdout",
     "output_type": "stream",
     "text": [
      "STEP 1: Loading Data...\n",
      "✓ Training data: (10240, 14)\n",
      "✓ Test data: (1267, 14)\n",
      "✓ Validation data: (1284, 14)\n"
     ]
    }
   ],
   "source": [
    "# Step 1: Load Data\n",
    "print(\"STEP 1: Loading Data...\")\n",
    "try:\n",
    "    train_df = pd.read_csv('../data/processed/train_processed.csv')\n",
    "    test_df = pd.read_csv('../data/processed/test_processed.csv')\n",
    "    valid_df = pd.read_csv('../data/processed/valid_processed.csv')\n",
    "    \n",
    "    print(f\"✓ Training data: {train_df.shape}\")\n",
    "    print(f\"✓ Test data: {test_df.shape}\")\n",
    "    print(f\"✓ Validation data: {valid_df.shape}\")\n",
    "except FileNotFoundError as e:\n",
    "    print(f\"Error loading data: {e}\")\n",
    "    print(\"Please ensure you have run the data loading step first!\")\n",
    "    exit(1)"
   ]
  },
  {
   "cell_type": "code",
   "execution_count": 3,
   "id": "9f16b2f6-a3a6-4179-a6a3-413ad517f9cb",
   "metadata": {},
   "outputs": [
    {
     "name": "stdout",
     "output_type": "stream",
     "text": [
      "STEP 2: Initializing Baseline Models...\n"
     ]
    }
   ],
   "source": [
    "# Step 2: Initialize Models\n",
    "print(\"STEP 2: Initializing Baseline Models...\")\n",
    "baseline_models = BaselineModels(random_state=42)\n",
    "evaluator = ModelEvaluator()"
   ]
  },
  {
   "cell_type": "code",
   "execution_count": 4,
   "id": "b51c3691-5efd-40e6-bb12-f0fc0cf79e19",
   "metadata": {},
   "outputs": [
    {
     "name": "stdout",
     "output_type": "stream",
     "text": [
      "STEP 3: Preparing Data...\n",
      "Preprocessing text...\n",
      "✓ Training samples: 11524\n",
      "✓ Test samples: 1267\n"
     ]
    }
   ],
   "source": [
    "# Step 3: Prepare Data\n",
    "print(\"STEP 3: Preparing Data...\")\n",
    "X_train, X_test, y_train, y_test = baseline_models.prepare_data(train_df, test_df, valid_df)\n",
    "print(f\"✓ Training samples: {len(X_train)}\")\n",
    "print(f\"✓ Test samples: {len(X_test)}\")"
   ]
  },
  {
   "cell_type": "code",
   "execution_count": null,
   "id": "c1f910af-224c-424f-8a8f-d85881960abe",
   "metadata": {},
   "outputs": [
    {
     "name": "stdout",
     "output_type": "stream",
     "text": [
      "STEP 4: Training Baseline Models...\n",
      "This may take several minutes...\n",
      "=== TRAINING BASELINE MODELS ===\n",
      "\\n1. Training TF-IDF + Logistic Regression...\n",
      "Fitting 5 folds for each of 18 candidates, totalling 90 fits\n",
      "Best parameters: {'classifier__C': 1, 'tfidf__max_features': 10000, 'tfidf__ngram_range': (1, 2)}\n",
      "Best cross-validation score: 0.2383\n",
      "\\n2. Training TF-IDF + Random Forest...\n",
      "Fitting 5 folds for each of 24 candidates, totalling 120 fits\n"
     ]
    }
   ],
   "source": [
    "# Step 4: Train Models\n",
    "print(\"STEP 4: Training Baseline Models...\")\n",
    "print(\"This may take several minutes...\")\n",
    "\n",
    "try:\n",
    "    models = baseline_models.train_all_models(X_train, y_train)\n",
    "    print(\"✓ All models trained successfully!\")\n",
    "except Exception as e:\n",
    "    print(f\"Error during training: {e}\")\n",
    "    exit(1)"
   ]
  },
  {
   "cell_type": "code",
   "execution_count": null,
   "id": "ebaeeb79-8cf9-4508-9af5-05fd9539ae23",
   "metadata": {},
   "outputs": [],
   "source": [
    "# Step 5: Evaluate Models\n",
    "print(\"STEP 5: Evaluating Models...\")"
   ]
  },
  {
   "cell_type": "code",
   "execution_count": null,
   "id": "da62fbc4-3395-41ad-8746-865b0006b540",
   "metadata": {},
   "outputs": [],
   "source": [
    "# Test set evaluation\n",
    "for model_name, model in models.items():\n",
    "    evaluator.evaluate_model(model, X_test, y_test, model_name)"
   ]
  },
  {
   "cell_type": "code",
   "execution_count": null,
   "id": "a52d6051-50ed-40f2-9ab8-a047e2d6e5e6",
   "metadata": {},
   "outputs": [],
   "source": [
    "# Cross-validation evaluation\n",
    "print(\"STEP 6: Cross-Validation Analysis...\")\n",
    "for model_name, model in models.items():\n",
    "    evaluator.cross_validate_model(model, X_train, y_train, model_name, cv=5)"
   ]
  },
  {
   "cell_type": "code",
   "execution_count": null,
   "id": "03cfcb9c-73d2-4c95-aab8-e294b1cf2d2c",
   "metadata": {},
   "outputs": [],
   "source": [
    "# Step 7: Generate Visualizations\n",
    "print(\"STEP 7: Creating Visualizations...\")"
   ]
  },
  {
   "cell_type": "code",
   "execution_count": null,
   "id": "66bea3b8-6343-4230-93dd-d47bb5d43a0e",
   "metadata": {},
   "outputs": [],
   "source": [
    "# Plot confusion matrices\n",
    "evaluator.plot_confusion_matrices()\n",
    "\n",
    "# Plot performance comparison\n",
    "evaluator.plot_performance_comparison()"
   ]
  },
  {
   "cell_type": "code",
   "execution_count": null,
   "id": "811f05f0-da4d-40a1-9408-bd94c7f166b7",
   "metadata": {},
   "outputs": [],
   "source": [
    "# Step 8: Create Reports\n",
    "print(\"STEP 8: Generating Reports...\")\n",
    "\n",
    "# Model comparison\n",
    "comparison_df = evaluator.compare_models()\n",
    "\n",
    "# Detailed report\n",
    "detailed_report = evaluator.create_detailed_report()\n"
   ]
  },
  {
   "cell_type": "code",
   "execution_count": null,
   "id": "35fb7fde-e99c-49c1-a56a-4c9fc539dbfd",
   "metadata": {},
   "outputs": [],
   "source": [
    "# Step 9: Save Models\n",
    "print(\"STEP 9: Saving Models...\")\n",
    "baseline_models.save_models()"
   ]
  },
  {
   "cell_type": "code",
   "execution_count": null,
   "id": "49d3c973-8b3b-4f16-89cf-1e0d7785d5f4",
   "metadata": {},
   "outputs": [],
   "source": [
    "# Step 10: Final Performance Summary\n",
    "print(\"STEP 10: Final Performance Summary\")\n",
    "print(\"=\" * 60)\n",
    "\n",
    "if comparison_df is not None:\n",
    "    best_model = comparison_df.loc[comparison_df['Accuracy'].idxmax()]\n",
    "    print(f\"🥇 Best Model: {best_model['Model']}\")\n",
    "    print(f\"📊 Best Accuracy: {best_model['Accuracy']:.4f}\")\n",
    "    print(f\"🎯 Best F1-Score: {best_model['F1-Score']:.4f}\")\n",
    "\n",
    "print(\"BASELINE MODEL TRAINING COMPLETE!\")\n",
    "print(\"All results saved to 'results/' directory\")\n",
    "print(\"Models saved to 'models/baseline/' directory\")"
   ]
  },
  {
   "cell_type": "code",
   "execution_count": null,
   "id": "183ecd21-1d24-44aa-84b3-daefcd322305",
   "metadata": {},
   "outputs": [],
   "source": []
  }
 ],
 "metadata": {
  "kernelspec": {
   "display_name": "Python 3 (ipykernel)",
   "language": "python",
   "name": "python3"
  },
  "language_info": {
   "codemirror_mode": {
    "name": "ipython",
    "version": 3
   },
   "file_extension": ".py",
   "mimetype": "text/x-python",
   "name": "python",
   "nbconvert_exporter": "python",
   "pygments_lexer": "ipython3",
   "version": "3.12.11"
  }
 },
 "nbformat": 4,
 "nbformat_minor": 5
}
