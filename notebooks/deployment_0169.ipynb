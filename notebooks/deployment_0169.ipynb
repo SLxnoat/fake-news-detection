{
 "cells": [
  {
   "cell_type": "code",
   "execution_count": 5,
   "id": "b34f20ff-c734-4948-a618-e84811437331",
   "metadata": {},
   "outputs": [
    {
     "ename": "ImportError",
     "evalue": "attempted relative import with no known parent package",
     "output_type": "error",
     "traceback": [
      "\u001b[31m---------------------------------------------------------------------------\u001b[39m",
      "\u001b[31mImportError\u001b[39m                               Traceback (most recent call last)",
      "\u001b[36mCell\u001b[39m\u001b[36m \u001b[39m\u001b[32mIn[5]\u001b[39m\u001b[32m, line 20\u001b[39m\n\u001b[32m     18\u001b[39m inference_spec = importlib.util.spec_from_file_location(\u001b[33m\"\u001b[39m\u001b[33minference_pipeline\u001b[39m\u001b[33m\"\u001b[39m, inference_path)\n\u001b[32m     19\u001b[39m inference_module = importlib.util.module_from_spec(inference_spec)\n\u001b[32m---> \u001b[39m\u001b[32m20\u001b[39m \u001b[43minference_spec\u001b[49m\u001b[43m.\u001b[49m\u001b[43mloader\u001b[49m\u001b[43m.\u001b[49m\u001b[43mexec_module\u001b[49m\u001b[43m(\u001b[49m\u001b[43minference_module\u001b[49m\u001b[43m)\u001b[49m\n\u001b[32m     21\u001b[39m InferencePipeline = inference_module.InferencePipeline\n\u001b[32m     23\u001b[39m \u001b[38;5;28;01mimport\u001b[39;00m\u001b[38;5;250m \u001b[39m\u001b[34;01mpandas\u001b[39;00m\u001b[38;5;250m \u001b[39m\u001b[38;5;28;01mas\u001b[39;00m\u001b[38;5;250m \u001b[39m\u001b[34;01mpd\u001b[39;00m\n",
      "\u001b[36mFile \u001b[39m\u001b[32m<frozen importlib._bootstrap_external>:999\u001b[39m, in \u001b[36mexec_module\u001b[39m\u001b[34m(self, module)\u001b[39m\n",
      "\u001b[36mFile \u001b[39m\u001b[32m<frozen importlib._bootstrap>:488\u001b[39m, in \u001b[36m_call_with_frames_removed\u001b[39m\u001b[34m(f, *args, **kwds)\u001b[39m\n",
      "\u001b[36mFile \u001b[39m\u001b[32m~\\fake-news-detection\\notebooks\\../src/deployment/0169_inference_pipeline.py:6\u001b[39m\n\u001b[32m      4\u001b[39m \u001b[38;5;28;01mimport\u001b[39;00m\u001b[38;5;250m \u001b[39m\u001b[34;01mtime\u001b[39;00m\n\u001b[32m      5\u001b[39m \u001b[38;5;28;01mimport\u001b[39;00m\u001b[38;5;250m \u001b[39m\u001b[34;01mlogging\u001b[39;00m\n\u001b[32m----> \u001b[39m\u001b[32m6\u001b[39m \u001b[38;5;28;01mfrom\u001b[39;00m\u001b[38;5;250m \u001b[39m\u001b[34;01m.\u001b[39;00m\u001b[34;01mmodel_deployment\u001b[39;00m\u001b[38;5;250m \u001b[39m\u001b[38;5;28;01mimport\u001b[39;00m ModelDeployment\n\u001b[32m      8\u001b[39m logger = logging.getLogger(\u001b[34m__name__\u001b[39m)\n\u001b[32m     10\u001b[39m \u001b[38;5;28;01mclass\u001b[39;00m\u001b[38;5;250m \u001b[39m\u001b[34;01mInferencePipeline\u001b[39;00m:\n",
      "\u001b[31mImportError\u001b[39m: attempted relative import with no known parent package"
     ]
    }
   ],
   "source": [
    "# Cell 1: Setup\n",
    "import sys\n",
    "import os\n",
    "import importlib.util\n",
    "\n",
    "# Add the deployment directory\n",
    "sys.path.append(os.path.join(os.getcwd(), '../src/deployment'))\n",
    "\n",
    "# Load ModelDeployment from 169_model_deployment.py\n",
    "model_deployment_path = os.path.join(os.getcwd(), '../src/deployment/169_model_deployment.py')\n",
    "model_deployment_spec = importlib.util.spec_from_file_location(\"model_deployment\", model_deployment_path)\n",
    "model_deployment_module = importlib.util.module_from_spec(model_deployment_spec)\n",
    "model_deployment_spec.loader.exec_module(model_deployment_module)\n",
    "ModelDeployment = model_deployment_module.ModelDeployment\n",
    "\n",
    "# Load InferencePipeline from 0169_inference_pipeline.py\n",
    "inference_path = os.path.join(os.getcwd(), '../src/deployment/0169_inference_pipeline.py')\n",
    "inference_spec = importlib.util.spec_from_file_location(\"inference_pipeline\", inference_path)\n",
    "inference_module = importlib.util.module_from_spec(inference_spec)\n",
    "inference_spec.loader.exec_module(inference_module)\n",
    "InferencePipeline = inference_module.InferencePipeline\n",
    "\n",
    "import pandas as pd\n",
    "import numpy as np\n",
    "\n",
    "print(\"Day 3: Deployment Infrastructure\")\n",
    "print(\"Member 0169 - Model Evaluation & Deployment\")"
   ]
  },
  {
   "cell_type": "code",
   "execution_count": null,
   "id": "6d653e0d-1d98-47e7-bd49-1b03b462bdb8",
   "metadata": {},
   "outputs": [],
   "source": []
  },
  {
   "cell_type": "code",
   "execution_count": null,
   "id": "954a8168-e692-4ba4-9f43-175e7d099438",
   "metadata": {},
   "outputs": [],
   "source": []
  }
 ],
 "metadata": {
  "kernelspec": {
   "display_name": "Python 3 (ipykernel)",
   "language": "python",
   "name": "python3"
  },
  "language_info": {
   "codemirror_mode": {
    "name": "ipython",
    "version": 3
   },
   "file_extension": ".py",
   "mimetype": "text/x-python",
   "name": "python",
   "nbconvert_exporter": "python",
   "pygments_lexer": "ipython3",
   "version": "3.12.11"
  }
 },
 "nbformat": 4,
 "nbformat_minor": 5
}
