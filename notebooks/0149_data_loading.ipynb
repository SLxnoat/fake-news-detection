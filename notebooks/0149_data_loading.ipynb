{
 "cells": [
  {
   "cell_type": "code",
   "execution_count": 1,
   "id": "1b1c077b-4fcf-425f-8c5e-7b9804eb0ea7",
   "metadata": {},
   "outputs": [],
   "source": [
    "import pandas as pd\n",
    "import numpy as np\n",
    "import matplotlib.pyplot as plt\n",
    "import seaborn as sns\n",
    "from sklearn.model_selection import train_test_split\n",
    "import warnings\n",
    "warnings.filterwarnings('ignore')"
   ]
  },
  {
   "cell_type": "code",
   "execution_count": 2,
   "id": "86548d67-e6e6-4e55-96fc-355a9103cd43",
   "metadata": {},
   "outputs": [],
   "source": [
    "# Set style\n",
    "plt.style.use('seaborn-v0_8')\n",
    "sns.set_palette(\"husl\")"
   ]
  },
  {
   "cell_type": "code",
   "execution_count": 9,
   "id": "3ab9cdc3-7fbb-4d02-bba1-dfef3f89dd90",
   "metadata": {},
   "outputs": [
    {
     "name": "stdout",
     "output_type": "stream",
     "text": [
      "Dataset loaded successfully!\n",
      "Training set: (10240, 14)\n",
      "Test set: (1267, 14)\n",
      "Validation set: (1284, 14)\n"
     ]
    }
   ],
   "source": [
    "def load_datasets():\n",
    "    columns = ['id', 'label', 'statement', 'subject', 'speaker', 'speaker_title','state_info', 'party_affiliation', 'barely_true_counts','false_counts', 'half_true_counts', 'mostly_true_counts','pants_fire_counts', 'context']\n",
    "    train_df = pd.read_csv('../data/raw/train.tsv', sep='\\t', header=None, names=columns)\n",
    "    test_df = pd.read_csv('../data/raw/test.tsv', sep='\\t', header=None, names=columns)\n",
    "    valid_df = pd.read_csv('../data/raw/valid.tsv', sep='\\t', header=None, names=columns)\n",
    "    \n",
    "    print(\"Dataset loaded successfully!\")\n",
    "    print(f\"Training set: {train_df.shape}\")\n",
    "    print(f\"Test set: {test_df.shape}\")\n",
    "    print(f\"Validation set: {valid_df.shape}\")\n",
    "    \n",
    "    return train_df, test_df, valid_df\n",
    "\n",
    "# Call the function to load the data\n",
    "train_df, test_df, valid_df = load_datasets()"
   ]
  },
  {
   "cell_type": "code",
   "execution_count": 12,
   "id": "2b78fe7e-ef89-47d3-a598-eaedc9acb807",
   "metadata": {},
   "outputs": [
    {
     "name": "stdout",
     "output_type": "stream",
     "text": [
      "\\n=== BASIC DATA INFO ===\n",
      "Total samples: 12791\n",
      "Features: 14\n",
      "\\n=== LABEL DISTRIBUTION (Training) ===\n",
      "label\n",
      "half-true      2114\n",
      "false          1995\n",
      "mostly-true    1962\n",
      "true           1676\n",
      "barely-true    1654\n",
      "pants-fire      839\n",
      "Name: count, dtype: int64\n",
      "\\n=== MISSING VALUES ===\n",
      "subject                  2\n",
      "speaker                  2\n",
      "speaker_title         2898\n",
      "state_info            2210\n",
      "party_affiliation        2\n",
      "barely_true_counts       2\n",
      "false_counts             2\n",
      "half_true_counts         2\n",
      "mostly_true_counts       2\n",
      "pants_fire_counts        2\n",
      "context                102\n",
      "dtype: int64\n"
     ]
    }
   ],
   "source": [
    "# Basic exploration\n",
    "print(\"\\\\n=== BASIC DATA INFO ===\")\n",
    "print(f\"Total samples: {len(train_df) + len(test_df) + len(valid_df)}\")\n",
    "print(f\"Features: {len(train_df.columns)}\")\n",
    "\n",
    "print(\"\\\\n=== LABEL DISTRIBUTION (Training) ===\")\n",
    "print(train_df['label'].value_counts())\n",
    "\n",
    "print(\"\\\\n=== MISSING VALUES ===\")\n",
    "print(train_df.isnull().sum()[train_df.isnull().sum() > 0])"
   ]
  },
  {
   "cell_type": "code",
   "execution_count": 15,
   "id": "6a411dbe-146a-4288-b744-19bd9bd5dc9b",
   "metadata": {},
   "outputs": [],
   "source": [
    "# Save processed data for team members\n",
    "train_df.to_csv('../data/processed/train_processed.csv', index=False)\n",
    "test_df.to_csv('../data/processed/test_processed.csv', index=False)\n",
    "valid_df.to_csv('../data/processed/valid_processed.csv', index=False)"
   ]
  },
  {
   "cell_type": "code",
   "execution_count": null,
   "id": "338ed868-814a-494e-85a7-421a9139d4db",
   "metadata": {},
   "outputs": [],
   "source": []
  }
 ],
 "metadata": {
  "kernelspec": {
   "display_name": "Python 3 (ipykernel)",
   "language": "python",
   "name": "python3"
  },
  "language_info": {
   "codemirror_mode": {
    "name": "ipython",
    "version": 3
   },
   "file_extension": ".py",
   "mimetype": "text/x-python",
   "name": "python",
   "nbconvert_exporter": "python",
   "pygments_lexer": "ipython3",
   "version": "3.12.11"
  }
 },
 "nbformat": 4,
 "nbformat_minor": 5
}
