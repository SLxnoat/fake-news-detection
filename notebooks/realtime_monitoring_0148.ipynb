{
 "cells": [
  {
   "cell_type": "code",
   "execution_count": 1,
   "id": "46d732c0-d4e9-4e2a-8052-17837e34a2a6",
   "metadata": {},
   "outputs": [],
   "source": [
    "# Real-time Monitoring Dashboard for Fake News Detection System\n",
    "# Day 3 - Member 0148\n",
    "\n",
    "import pandas as pd\n",
    "import numpy as np\n",
    "import matplotlib.pyplot as plt\n",
    "import seaborn as sns\n",
    "import plotly.graph_objects as go\n",
    "import plotly.express as px\n",
    "from plotly.subplots import make_subplots\n",
    "import time\n",
    "from datetime import datetime, timedelta\n",
    "import json\n",
    "import requests\n",
    "from IPython.display import display, clear_output\n",
    "import warnings\n",
    "warnings.filterwarnings('ignore')\n",
    "\n",
    "# Configure plotting\n",
    "plt.style.use('seaborn-v0_8')\n",
    "sns.set_palette(\"husl\")"
   ]
  },
  {
   "cell_type": "code",
   "execution_count": 2,
   "id": "bbee24db-4d21-4eba-a25b-db321231a297",
   "metadata": {},
   "outputs": [
    {
     "name": "stdout",
     "output_type": "stream",
     "text": [
      "Generating sample real-time monitoring data...\n",
      "\n",
      "=== System Overview ===\n",
      "Total Predictions: 200\n",
      "Time Range: 2025-08-17 19:19:43.502823 to 2025-08-18 01:57:43.502823\n",
      "Fake News Rate: 34.0%\n",
      "Average Confidence: 0.820\n",
      "Average Processing Time: 0.230s\n",
      "\n",
      "=== Alert Status ===\n",
      "Critical Alerts: 1\n",
      "Warning Alerts: 0\n",
      "Total Active Alerts: 1\n",
      "\n",
      "=== Real-Time Dashboard ===\n"
     ]
    },
    {
     "data": {
      "application/vnd.plotly.v1+json": {
       "config": {
        "plotlyServerURL": "https://plot.ly"
       },
       "data": [
        {
         "line": {
          "color": "blue"
         },
         "mode": "lines+markers",
         "name": "Predictions/30min",
         "type": "scatter",
         "x": [
          "2025-08-17T19:00:00.000000000",
          "2025-08-17T19:30:00.000000000",
          "2025-08-17T20:00:00.000000000",
          "2025-08-17T20:30:00.000000000",
          "2025-08-17T21:00:00.000000000",
          "2025-08-17T21:30:00.000000000",
          "2025-08-17T22:00:00.000000000",
          "2025-08-17T22:30:00.000000000",
          "2025-08-17T23:00:00.000000000",
          "2025-08-17T23:30:00.000000000",
          "2025-08-18T00:00:00.000000000",
          "2025-08-18T00:30:00.000000000",
          "2025-08-18T01:00:00.000000000",
          "2025-08-18T01:30:00.000000000"
         ],
         "xaxis": "x",
         "y": {
          "bdata": "Bg8PDw8PDw8PDw8PDw4=",
          "dtype": "i1"
         },
         "yaxis": "y"
        },
        {
         "line": {
          "color": "red"
         },
         "mode": "lines+markers",
         "name": "Avg Confidence",
         "type": "scatter",
         "x": [
          "2025-08-17T19:00:00.000000000",
          "2025-08-17T19:30:00.000000000",
          "2025-08-17T20:00:00.000000000",
          "2025-08-17T20:30:00.000000000",
          "2025-08-17T21:00:00.000000000",
          "2025-08-17T21:30:00.000000000",
          "2025-08-17T22:00:00.000000000",
          "2025-08-17T22:30:00.000000000",
          "2025-08-17T23:00:00.000000000",
          "2025-08-17T23:30:00.000000000",
          "2025-08-18T00:00:00.000000000",
          "2025-08-18T00:30:00.000000000",
          "2025-08-18T01:00:00.000000000",
          "2025-08-18T01:30:00.000000000"
         ],
         "xaxis": "x",
         "y": {
          "bdata": "wwXkwD7n6j/ZvsxgS2bpP/VI74K3kug/732zjJcT6T9D6pQ0I5TqP2Tdo92pguk/t+rUbous6T91w7nRrCHrP2y3yPZFPuk/aeXgJeLU6j8nIM8NWlfrPycE//6hiuw/+7F19hR+6T+qeNMrlrLrPw==",
          "dtype": "f8"
         },
         "yaxis": "y2"
        },
        {
         "marker": {
          "color": "lightblue"
         },
         "name": "Confidence Dist",
         "nbinsx": 20,
         "type": "histogram",
         "x": {
          "bdata": "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",
          "dtype": "f8"
         },
         "xaxis": "x2",
         "yaxis": "y3"
        },
        {
         "line": {
          "color": "green"
         },
         "mode": "lines+markers",
         "name": "Avg Processing Time",
         "type": "scatter",
         "x": [
          "2025-08-17T19:00:00.000000000",
          "2025-08-17T19:30:00.000000000",
          "2025-08-17T20:00:00.000000000",
          "2025-08-17T20:30:00.000000000",
          "2025-08-17T21:00:00.000000000",
          "2025-08-17T21:30:00.000000000",
          "2025-08-17T22:00:00.000000000",
          "2025-08-17T22:30:00.000000000",
          "2025-08-17T23:00:00.000000000",
          "2025-08-17T23:30:00.000000000",
          "2025-08-18T00:00:00.000000000",
          "2025-08-18T00:30:00.000000000",
          "2025-08-18T01:00:00.000000000",
          "2025-08-18T01:30:00.000000000"
         ],
         "xaxis": "x3",
         "y": {
          "bdata": "GRf4Y5eRwT/aBTXeDvzNP8NBm2UzvdQ/7r2bXZf9zj+jIgdyqXvPP0BuZspmPbs/TihsJ7uXyT9sQT5bNHfHP2ZL8wiwXtI/cdmSvs9gwz9R1o95lirQP6xH/N+uqNE/k5ZZodlM0z8IUqUu+yPMPw==",
          "dtype": "f8"
         },
         "yaxis": "y4"
        },
        {
         "marker": {
          "color": "orange"
         },
         "name": "Predictions by Hour",
         "type": "bar",
         "x": {
          "bdata": "AAAAAAEAAAATAAAAFAAAABUAAAAWAAAAFwAAAA==",
          "dtype": "i4"
         },
         "xaxis": "x4",
         "y": {
          "bdata": "Hh0VHh4eHg==",
          "dtype": "i1"
         },
         "yaxis": "y5"
        },
        {
         "domain": {
          "x": [
           0,
           0.37
          ],
          "y": [
           0,
           0.22222222222222224
          ]
         },
         "gauge": {
          "axis": {
           "range": [
            null,
            100
           ]
          },
          "bar": {
           "color": "darkblue"
          },
          "steps": [
           {
            "color": "lightgray",
            "range": [
             0,
             50
            ]
           },
           {
            "color": "yellow",
            "range": [
             50,
             80
            ]
           }
          ],
          "threshold": {
           "line": {
            "color": "red",
            "width": 4
           },
           "thickness": 0.75,
           "value": 90
          }
         },
         "mode": "gauge+number",
         "title": {
          "text": "Throughput (pred/hr)"
         },
         "type": "indicator",
         "value": 100
        },
        {
         "delta": {
          "position": "top",
          "reference": 0
         },
         "domain": {
          "x": [
           0.5700000000000001,
           0.9400000000000001
          ],
          "y": [
           0,
           0.22222222222222224
          ]
         },
         "mode": "number+delta",
         "number": {
          "font": {
           "color": "red"
          }
         },
         "title": {
          "text": "Active Alerts"
         },
         "type": "indicator",
         "value": 1
        }
       ],
       "layout": {
        "annotations": [
         {
          "font": {
           "size": 16
          },
          "showarrow": false,
          "text": "Predictions Over Time",
          "x": 0.185,
          "xanchor": "center",
          "xref": "paper",
          "y": 1,
          "yanchor": "bottom",
          "yref": "paper"
         },
         {
          "font": {
           "size": 16
          },
          "showarrow": false,
          "text": "Confidence Distribution",
          "x": 0.7550000000000001,
          "xanchor": "center",
          "xref": "paper",
          "y": 1,
          "yanchor": "bottom",
          "yref": "paper"
         },
         {
          "font": {
           "size": 16
          },
          "showarrow": false,
          "text": "Processing Time Trends",
          "x": 0.185,
          "xanchor": "center",
          "xref": "paper",
          "y": 0.6111111111111112,
          "yanchor": "bottom",
          "yref": "paper"
         },
         {
          "font": {
           "size": 16
          },
          "showarrow": false,
          "text": "Predictions by Hour",
          "x": 0.7550000000000001,
          "xanchor": "center",
          "xref": "paper",
          "y": 0.6111111111111112,
          "yanchor": "bottom",
          "yref": "paper"
         },
         {
          "font": {
           "size": 16
          },
          "showarrow": false,
          "text": "System Throughput",
          "x": 0.185,
          "xanchor": "center",
          "xref": "paper",
          "y": 0.22222222222222224,
          "yanchor": "bottom",
          "yref": "paper"
         },
         {
          "font": {
           "size": 16
          },
          "showarrow": false,
          "text": "Alert Status",
          "x": 0.7550000000000001,
          "xanchor": "center",
          "xref": "paper",
          "y": 0.22222222222222224,
          "yanchor": "bottom",
          "yref": "paper"
         },
         {
          "showarrow": false,
          "text": "SLA Threshold",
          "x": 1,
          "xanchor": "right",
          "xref": "x3 domain",
          "y": 0.5,
          "yanchor": "bottom",
          "yref": "y4"
         }
        ],
        "height": 800,
        "shapes": [
         {
          "line": {
           "color": "red",
           "dash": "dash"
          },
          "type": "line",
          "x0": 0,
          "x1": 1,
          "xref": "x3 domain",
          "y0": 0.5,
          "y1": 0.5,
          "yref": "y4"
         }
        ],
        "showlegend": true,
        "template": {
         "data": {
          "bar": [
           {
            "error_x": {
             "color": "#2a3f5f"
            },
            "error_y": {
             "color": "#2a3f5f"
            },
            "marker": {
             "line": {
              "color": "white",
              "width": 0.5
             },
             "pattern": {
              "fillmode": "overlay",
              "size": 10,
              "solidity": 0.2
             }
            },
            "type": "bar"
           }
          ],
          "barpolar": [
           {
            "marker": {
             "line": {
              "color": "white",
              "width": 0.5
             },
             "pattern": {
              "fillmode": "overlay",
              "size": 10,
              "solidity": 0.2
             }
            },
            "type": "barpolar"
           }
          ],
          "carpet": [
           {
            "aaxis": {
             "endlinecolor": "#2a3f5f",
             "gridcolor": "#C8D4E3",
             "linecolor": "#C8D4E3",
             "minorgridcolor": "#C8D4E3",
             "startlinecolor": "#2a3f5f"
            },
            "baxis": {
             "endlinecolor": "#2a3f5f",
             "gridcolor": "#C8D4E3",
             "linecolor": "#C8D4E3",
             "minorgridcolor": "#C8D4E3",
             "startlinecolor": "#2a3f5f"
            },
            "type": "carpet"
           }
          ],
          "choropleth": [
           {
            "colorbar": {
             "outlinewidth": 0,
             "ticks": ""
            },
            "type": "choropleth"
           }
          ],
          "contour": [
           {
            "colorbar": {
             "outlinewidth": 0,
             "ticks": ""
            },
            "colorscale": [
             [
              0,
              "#0d0887"
             ],
             [
              0.1111111111111111,
              "#46039f"
             ],
             [
              0.2222222222222222,
              "#7201a8"
             ],
             [
              0.3333333333333333,
              "#9c179e"
             ],
             [
              0.4444444444444444,
              "#bd3786"
             ],
             [
              0.5555555555555556,
              "#d8576b"
             ],
             [
              0.6666666666666666,
              "#ed7953"
             ],
             [
              0.7777777777777778,
              "#fb9f3a"
             ],
             [
              0.8888888888888888,
              "#fdca26"
             ],
             [
              1,
              "#f0f921"
             ]
            ],
            "type": "contour"
           }
          ],
          "contourcarpet": [
           {
            "colorbar": {
             "outlinewidth": 0,
             "ticks": ""
            },
            "type": "contourcarpet"
           }
          ],
          "heatmap": [
           {
            "colorbar": {
             "outlinewidth": 0,
             "ticks": ""
            },
            "colorscale": [
             [
              0,
              "#0d0887"
             ],
             [
              0.1111111111111111,
              "#46039f"
             ],
             [
              0.2222222222222222,
              "#7201a8"
             ],
             [
              0.3333333333333333,
              "#9c179e"
             ],
             [
              0.4444444444444444,
              "#bd3786"
             ],
             [
              0.5555555555555556,
              "#d8576b"
             ],
             [
              0.6666666666666666,
              "#ed7953"
             ],
             [
              0.7777777777777778,
              "#fb9f3a"
             ],
             [
              0.8888888888888888,
              "#fdca26"
             ],
             [
              1,
              "#f0f921"
             ]
            ],
            "type": "heatmap"
           }
          ],
          "histogram": [
           {
            "marker": {
             "pattern": {
              "fillmode": "overlay",
              "size": 10,
              "solidity": 0.2
             }
            },
            "type": "histogram"
           }
          ],
          "histogram2d": [
           {
            "colorbar": {
             "outlinewidth": 0,
             "ticks": ""
            },
            "colorscale": [
             [
              0,
              "#0d0887"
             ],
             [
              0.1111111111111111,
              "#46039f"
             ],
             [
              0.2222222222222222,
              "#7201a8"
             ],
             [
              0.3333333333333333,
              "#9c179e"
             ],
             [
              0.4444444444444444,
              "#bd3786"
             ],
             [
              0.5555555555555556,
              "#d8576b"
             ],
             [
              0.6666666666666666,
              "#ed7953"
             ],
             [
              0.7777777777777778,
              "#fb9f3a"
             ],
             [
              0.8888888888888888,
              "#fdca26"
             ],
             [
              1,
              "#f0f921"
             ]
            ],
            "type": "histogram2d"
           }
          ],
          "histogram2dcontour": [
           {
            "colorbar": {
             "outlinewidth": 0,
             "ticks": ""
            },
            "colorscale": [
             [
              0,
              "#0d0887"
             ],
             [
              0.1111111111111111,
              "#46039f"
             ],
             [
              0.2222222222222222,
              "#7201a8"
             ],
             [
              0.3333333333333333,
              "#9c179e"
             ],
             [
              0.4444444444444444,
              "#bd3786"
             ],
             [
              0.5555555555555556,
              "#d8576b"
             ],
             [
              0.6666666666666666,
              "#ed7953"
             ],
             [
              0.7777777777777778,
              "#fb9f3a"
             ],
             [
              0.8888888888888888,
              "#fdca26"
             ],
             [
              1,
              "#f0f921"
             ]
            ],
            "type": "histogram2dcontour"
           }
          ],
          "mesh3d": [
           {
            "colorbar": {
             "outlinewidth": 0,
             "ticks": ""
            },
            "type": "mesh3d"
           }
          ],
          "parcoords": [
           {
            "line": {
             "colorbar": {
              "outlinewidth": 0,
              "ticks": ""
             }
            },
            "type": "parcoords"
           }
          ],
          "pie": [
           {
            "automargin": true,
            "type": "pie"
           }
          ],
          "scatter": [
           {
            "fillpattern": {
             "fillmode": "overlay",
             "size": 10,
             "solidity": 0.2
            },
            "type": "scatter"
           }
          ],
          "scatter3d": [
           {
            "line": {
             "colorbar": {
              "outlinewidth": 0,
              "ticks": ""
             }
            },
            "marker": {
             "colorbar": {
              "outlinewidth": 0,
              "ticks": ""
             }
            },
            "type": "scatter3d"
           }
          ],
          "scattercarpet": [
           {
            "marker": {
             "colorbar": {
              "outlinewidth": 0,
              "ticks": ""
             }
            },
            "type": "scattercarpet"
           }
          ],
          "scattergeo": [
           {
            "marker": {
             "colorbar": {
              "outlinewidth": 0,
              "ticks": ""
             }
            },
            "type": "scattergeo"
           }
          ],
          "scattergl": [
           {
            "marker": {
             "colorbar": {
              "outlinewidth": 0,
              "ticks": ""
             }
            },
            "type": "scattergl"
           }
          ],
          "scattermap": [
           {
            "marker": {
             "colorbar": {
              "outlinewidth": 0,
              "ticks": ""
             }
            },
            "type": "scattermap"
           }
          ],
          "scattermapbox": [
           {
            "marker": {
             "colorbar": {
              "outlinewidth": 0,
              "ticks": ""
             }
            },
            "type": "scattermapbox"
           }
          ],
          "scatterpolar": [
           {
            "marker": {
             "colorbar": {
              "outlinewidth": 0,
              "ticks": ""
             }
            },
            "type": "scatterpolar"
           }
          ],
          "scatterpolargl": [
           {
            "marker": {
             "colorbar": {
              "outlinewidth": 0,
              "ticks": ""
             }
            },
            "type": "scatterpolargl"
           }
          ],
          "scatterternary": [
           {
            "marker": {
             "colorbar": {
              "outlinewidth": 0,
              "ticks": ""
             }
            },
            "type": "scatterternary"
           }
          ],
          "surface": [
           {
            "colorbar": {
             "outlinewidth": 0,
             "ticks": ""
            },
            "colorscale": [
             [
              0,
              "#0d0887"
             ],
             [
              0.1111111111111111,
              "#46039f"
             ],
             [
              0.2222222222222222,
              "#7201a8"
             ],
             [
              0.3333333333333333,
              "#9c179e"
             ],
             [
              0.4444444444444444,
              "#bd3786"
             ],
             [
              0.5555555555555556,
              "#d8576b"
             ],
             [
              0.6666666666666666,
              "#ed7953"
             ],
             [
              0.7777777777777778,
              "#fb9f3a"
             ],
             [
              0.8888888888888888,
              "#fdca26"
             ],
             [
              1,
              "#f0f921"
             ]
            ],
            "type": "surface"
           }
          ],
          "table": [
           {
            "cells": {
             "fill": {
              "color": "#EBF0F8"
             },
             "line": {
              "color": "white"
             }
            },
            "header": {
             "fill": {
              "color": "#C8D4E3"
             },
             "line": {
              "color": "white"
             }
            },
            "type": "table"
           }
          ]
         },
         "layout": {
          "annotationdefaults": {
           "arrowcolor": "#2a3f5f",
           "arrowhead": 0,
           "arrowwidth": 1
          },
          "autotypenumbers": "strict",
          "coloraxis": {
           "colorbar": {
            "outlinewidth": 0,
            "ticks": ""
           }
          },
          "colorscale": {
           "diverging": [
            [
             0,
             "#8e0152"
            ],
            [
             0.1,
             "#c51b7d"
            ],
            [
             0.2,
             "#de77ae"
            ],
            [
             0.3,
             "#f1b6da"
            ],
            [
             0.4,
             "#fde0ef"
            ],
            [
             0.5,
             "#f7f7f7"
            ],
            [
             0.6,
             "#e6f5d0"
            ],
            [
             0.7,
             "#b8e186"
            ],
            [
             0.8,
             "#7fbc41"
            ],
            [
             0.9,
             "#4d9221"
            ],
            [
             1,
             "#276419"
            ]
           ],
           "sequential": [
            [
             0,
             "#0d0887"
            ],
            [
             0.1111111111111111,
             "#46039f"
            ],
            [
             0.2222222222222222,
             "#7201a8"
            ],
            [
             0.3333333333333333,
             "#9c179e"
            ],
            [
             0.4444444444444444,
             "#bd3786"
            ],
            [
             0.5555555555555556,
             "#d8576b"
            ],
            [
             0.6666666666666666,
             "#ed7953"
            ],
            [
             0.7777777777777778,
             "#fb9f3a"
            ],
            [
             0.8888888888888888,
             "#fdca26"
            ],
            [
             1,
             "#f0f921"
            ]
           ],
           "sequentialminus": [
            [
             0,
             "#0d0887"
            ],
            [
             0.1111111111111111,
             "#46039f"
            ],
            [
             0.2222222222222222,
             "#7201a8"
            ],
            [
             0.3333333333333333,
             "#9c179e"
            ],
            [
             0.4444444444444444,
             "#bd3786"
            ],
            [
             0.5555555555555556,
             "#d8576b"
            ],
            [
             0.6666666666666666,
             "#ed7953"
            ],
            [
             0.7777777777777778,
             "#fb9f3a"
            ],
            [
             0.8888888888888888,
             "#fdca26"
            ],
            [
             1,
             "#f0f921"
            ]
           ]
          },
          "colorway": [
           "#636efa",
           "#EF553B",
           "#00cc96",
           "#ab63fa",
           "#FFA15A",
           "#19d3f3",
           "#FF6692",
           "#B6E880",
           "#FF97FF",
           "#FECB52"
          ],
          "font": {
           "color": "#2a3f5f"
          },
          "geo": {
           "bgcolor": "white",
           "lakecolor": "white",
           "landcolor": "white",
           "showlakes": true,
           "showland": true,
           "subunitcolor": "#C8D4E3"
          },
          "hoverlabel": {
           "align": "left"
          },
          "hovermode": "closest",
          "mapbox": {
           "style": "light"
          },
          "paper_bgcolor": "white",
          "plot_bgcolor": "white",
          "polar": {
           "angularaxis": {
            "gridcolor": "#EBF0F8",
            "linecolor": "#EBF0F8",
            "ticks": ""
           },
           "bgcolor": "white",
           "radialaxis": {
            "gridcolor": "#EBF0F8",
            "linecolor": "#EBF0F8",
            "ticks": ""
           }
          },
          "scene": {
           "xaxis": {
            "backgroundcolor": "white",
            "gridcolor": "#DFE8F3",
            "gridwidth": 2,
            "linecolor": "#EBF0F8",
            "showbackground": true,
            "ticks": "",
            "zerolinecolor": "#EBF0F8"
           },
           "yaxis": {
            "backgroundcolor": "white",
            "gridcolor": "#DFE8F3",
            "gridwidth": 2,
            "linecolor": "#EBF0F8",
            "showbackground": true,
            "ticks": "",
            "zerolinecolor": "#EBF0F8"
           },
           "zaxis": {
            "backgroundcolor": "white",
            "gridcolor": "#DFE8F3",
            "gridwidth": 2,
            "linecolor": "#EBF0F8",
            "showbackground": true,
            "ticks": "",
            "zerolinecolor": "#EBF0F8"
           }
          },
          "shapedefaults": {
           "line": {
            "color": "#2a3f5f"
           }
          },
          "ternary": {
           "aaxis": {
            "gridcolor": "#DFE8F3",
            "linecolor": "#A2B1C6",
            "ticks": ""
           },
           "baxis": {
            "gridcolor": "#DFE8F3",
            "linecolor": "#A2B1C6",
            "ticks": ""
           },
           "bgcolor": "white",
           "caxis": {
            "gridcolor": "#DFE8F3",
            "linecolor": "#A2B1C6",
            "ticks": ""
           }
          },
          "title": {
           "x": 0.05
          },
          "xaxis": {
           "automargin": true,
           "gridcolor": "#EBF0F8",
           "linecolor": "#EBF0F8",
           "ticks": "",
           "title": {
            "standoff": 15
           },
           "zerolinecolor": "#EBF0F8",
           "zerolinewidth": 2
          },
          "yaxis": {
           "automargin": true,
           "gridcolor": "#EBF0F8",
           "linecolor": "#EBF0F8",
           "ticks": "",
           "title": {
            "standoff": 15
           },
           "zerolinecolor": "#EBF0F8",
           "zerolinewidth": 2
          }
         }
        },
        "title": {
         "text": "Real-Time Fake News Detection System Monitor",
         "x": 0.5
        },
        "xaxis": {
         "anchor": "y",
         "domain": [
          0,
          0.37
         ]
        },
        "xaxis2": {
         "anchor": "y3",
         "domain": [
          0.5700000000000001,
          0.9400000000000001
         ]
        },
        "xaxis3": {
         "anchor": "y4",
         "domain": [
          0,
          0.37
         ]
        },
        "xaxis4": {
         "anchor": "y5",
         "domain": [
          0.5700000000000001,
          0.9400000000000001
         ]
        },
        "yaxis": {
         "anchor": "x",
         "domain": [
          0.7777777777777778,
          1
         ],
         "title": {
          "text": "Count"
         }
        },
        "yaxis2": {
         "anchor": "x",
         "overlaying": "y",
         "side": "right",
         "title": {
          "text": "Confidence"
         }
        },
        "yaxis3": {
         "anchor": "x2",
         "domain": [
          0.7777777777777778,
          1
         ]
        },
        "yaxis4": {
         "anchor": "x3",
         "domain": [
          0.3888888888888889,
          0.6111111111111112
         ],
         "title": {
          "text": "Processing Time (s)"
         }
        },
        "yaxis5": {
         "anchor": "x4",
         "domain": [
          0.3888888888888889,
          0.6111111111111112
         ],
         "title": {
          "text": "Count"
         }
        }
       }
      },
      "image/png": "[encoded data removed]"
     },
     "metadata": {},
     "output_type": "display_data"
    },
    {
     "name": "stdout",
     "output_type": "stream",
     "text": [
      "\n",
      "=== Performance Report ===\n",
      "{\n",
      "  \"timestamp\": \"2025-08-17T21:19:45.650411\",\n",
      "  \"total_predictions\": 200,\n",
      "  \"time_period\": \"2025-08-17 19:19:43.502823 to 2025-08-18 01:57:43.502823\",\n",
      "  \"prediction_distribution\": {\n",
      "    \"real\": 132,\n",
      "    \"fake\": 68\n",
      "  },\n",
      "  \"avg_confidence\": 0.8203273873966543,\n",
      "  \"avg_processing_time\": 0.22984893094915965,\n",
      "  \"max_processing_time\": 1.1543872625776757,\n",
      "  \"sla_compliance\": 88.5,\n",
      "  \"confidence_quartiles\": {\n",
      "    \"0.25\": 0.751111101546991,\n",
      "    \"0.5\": 0.8198889281384165,\n",
      "    \"0.75\": 0.9014096344335006\n",
      "  },\n",
      "  \"hourly_distribution\": {\n",
      "    \"0\": 30,\n",
      "    \"1\": 29,\n",
      "    \"19\": 21,\n",
      "    \"20\": 30,\n",
      "    \"21\": 30,\n",
      "    \"22\": 30,\n",
      "    \"23\": 30\n",
      "  }\n",
      "}\n",
      "Monitoring data exported to monitoring_data_20250817_211945.csv\n",
      "\n",
      "Data exported to: monitoring_data_20250817_211945.csv\n"
     ]
    }
   ],
   "source": [
    "class RealTimeMonitor:\n",
    "    def __init__(self, api_base_url=\"http://localhost:5000/api\"):\n",
    "        self.api_base_url = api_base_url\n",
    "        self.prediction_history = []\n",
    "        self.performance_metrics = {}\n",
    "        self.system_metrics = {}\n",
    "        \n",
    "    def fetch_system_stats(self):\n",
    "        \"\"\"Fetch current system statistics\"\"\"\n",
    "        try:\n",
    "            response = requests.get(f\"{self.api_base_url}/stats\")\n",
    "            if response.status_code == 200:\n",
    "                return response.json()\n",
    "            else:\n",
    "                return None\n",
    "        except:\n",
    "            return None\n",
    "    \n",
    "    def simulate_real_time_data(self, n_points=50):\n",
    "        \"\"\"Simulate real-time prediction data\"\"\"\n",
    "        timestamps = []\n",
    "        predictions = []\n",
    "        confidences = []\n",
    "        processing_times = []\n",
    "        \n",
    "        base_time = datetime.now() - timedelta(hours=2)\n",
    "        \n",
    "        for i in range(n_points):\n",
    "            timestamp = base_time + timedelta(minutes=i*2)\n",
    "            pred = np.random.choice(['real', 'fake'], p=[0.65, 0.35])\n",
    "            conf = np.random.normal(0.82, 0.12)\n",
    "            conf = max(0.5, min(0.99, conf))  # Clip to reasonable range\n",
    "            proc_time = np.random.exponential(0.25)\n",
    "            \n",
    "            timestamps.append(timestamp)\n",
    "            predictions.append(pred)\n",
    "            confidences.append(conf)\n",
    "            processing_times.append(proc_time)\n",
    "        \n",
    "        return pd.DataFrame({\n",
    "            'timestamp': timestamps,\n",
    "            'prediction': predictions,\n",
    "            'confidence': confidences,\n",
    "            'processing_time': processing_times\n",
    "        })\n",
    "    \n",
    "    def create_real_time_dashboard(self, df):\n",
    "        \"\"\"Create comprehensive real-time monitoring dashboard\"\"\"\n",
    "        # Create subplots with CORRECTED specs\n",
    "        fig = make_subplots(\n",
    "            rows=3, cols=2,\n",
    "            subplot_titles=[\n",
    "                'Predictions Over Time', 'Confidence Distribution',\n",
    "                'Processing Time Trends', 'Predictions by Hour',\n",
    "                'System Throughput', 'Alert Status'\n",
    "            ],\n",
    "            specs=[\n",
    "                [{\"type\": \"xy\", \"secondary_y\": True}, {\"type\": \"histogram\"}],\n",
    "                [{\"type\": \"xy\"}, {\"type\": \"bar\"}],\n",
    "                [{\"type\": \"indicator\"}, {\"type\": \"indicator\"}]\n",
    "            ]\n",
    "        )\n",
    "        \n",
    "        # 1. Predictions over time with confidence\n",
    "        df_hourly = df.set_index('timestamp').resample('30T').agg({\n",
    "            'prediction': 'count',\n",
    "            'confidence': 'mean'\n",
    "        }).reset_index()\n",
    "        \n",
    "        fig.add_trace(\n",
    "            go.Scatter(\n",
    "                x=df_hourly['timestamp'], \n",
    "                y=df_hourly['prediction'],\n",
    "                mode='lines+markers', \n",
    "                name='Predictions/30min',\n",
    "                line=dict(color='blue')\n",
    "            ),\n",
    "            row=1, col=1\n",
    "        )\n",
    "        \n",
    "        fig.add_trace(\n",
    "            go.Scatter(\n",
    "                x=df_hourly['timestamp'], \n",
    "                y=df_hourly['confidence'],\n",
    "                mode='lines+markers', \n",
    "                name='Avg Confidence',\n",
    "                line=dict(color='red')\n",
    "            ),\n",
    "            row=1, col=1, secondary_y=True\n",
    "        )\n",
    "        \n",
    "        # 2. Confidence distribution\n",
    "        fig.add_trace(\n",
    "            go.Histogram(\n",
    "                x=df['confidence'], \n",
    "                nbinsx=20, \n",
    "                name='Confidence Dist',\n",
    "                marker_color='lightblue'\n",
    "            ),\n",
    "            row=1, col=2\n",
    "        )\n",
    "        \n",
    "        # 3. Processing time trends\n",
    "        df_proc_time = df.set_index('timestamp').resample('30T')['processing_time'].mean().reset_index()\n",
    "        \n",
    "        fig.add_trace(\n",
    "            go.Scatter(\n",
    "                x=df_proc_time['timestamp'], \n",
    "                y=df_proc_time['processing_time'],\n",
    "                mode='lines+markers', \n",
    "                name='Avg Processing Time',\n",
    "                line=dict(color='green')\n",
    "            ),\n",
    "            row=2, col=1\n",
    "        )\n",
    "        \n",
    "        # Add processing time threshold line\n",
    "        fig.add_hline(\n",
    "            y=0.5, \n",
    "            line_dash=\"dash\", \n",
    "            line_color=\"red\", \n",
    "            annotation_text=\"SLA Threshold\", \n",
    "            row=2, col=1\n",
    "        )\n",
    "        \n",
    "        # 4. Prediction count by hour\n",
    "        df['hour'] = df['timestamp'].dt.hour\n",
    "        hourly_stats = df.groupby('hour').agg({\n",
    "            'prediction': 'count',\n",
    "            'confidence': 'mean'\n",
    "        }).reset_index()\n",
    "        \n",
    "        fig.add_trace(\n",
    "            go.Bar(\n",
    "                x=hourly_stats['hour'], \n",
    "                y=hourly_stats['prediction'],\n",
    "                name='Predictions by Hour', \n",
    "                marker_color='orange'\n",
    "            ),\n",
    "            row=2, col=2\n",
    "        )\n",
    "        \n",
    "        # 5. System performance metrics - INDICATOR\n",
    "        current_throughput = len(df) / 2  # predictions per hour\n",
    "        avg_confidence = df['confidence'].mean()\n",
    "        avg_processing_time = df['processing_time'].mean()\n",
    "        \n",
    "        fig.add_trace(\n",
    "            go.Indicator(\n",
    "                mode=\"gauge+number\",\n",
    "                value=current_throughput,\n",
    "                domain={'x': [0, 1], 'y': [0, 1]},\n",
    "                title={'text': \"Throughput (pred/hr)\"},\n",
    "                gauge={\n",
    "                    'axis': {'range': [None, 100]},\n",
    "                    'bar': {'color': \"darkblue\"},\n",
    "                    'steps': [\n",
    "                        {'range': [0, 50], 'color': \"lightgray\"},\n",
    "                        {'range': [50, 80], 'color': \"yellow\"}\n",
    "                    ],\n",
    "                    'threshold': {\n",
    "                        'line': {'color': \"red\", 'width': 4},\n",
    "                        'thickness': 0.75, \n",
    "                        'value': 90\n",
    "                    }\n",
    "                }\n",
    "            ),\n",
    "            row=3, col=1\n",
    "        )\n",
    "        \n",
    "        # 6. Alert status - INDICATOR\n",
    "        alerts = self.check_system_alerts(df)\n",
    "        alert_color = \"red\" if alerts['critical'] > 0 else \"yellow\" if alerts['warning'] > 0 else \"green\"\n",
    "        \n",
    "        fig.add_trace(\n",
    "            go.Indicator(\n",
    "                mode=\"number+delta\",\n",
    "                value=alerts['total'],\n",
    "                title={'text': \"Active Alerts\"},\n",
    "                number={'font': {'color': alert_color}},\n",
    "                delta={'reference': 0, 'position': \"top\"}\n",
    "            ),\n",
    "            row=3, col=2\n",
    "        )\n",
    "        \n",
    "        # Update layout\n",
    "        fig.update_layout(\n",
    "            height=800,\n",
    "            title_text=\"Real-Time Fake News Detection System Monitor\",\n",
    "            title_x=0.5,\n",
    "            showlegend=True,\n",
    "            template=\"plotly_white\"\n",
    "        )\n",
    "        \n",
    "        # Update axes labels\n",
    "        fig.update_yaxes(title_text=\"Count\", row=1, col=1)\n",
    "        fig.update_yaxes(title_text=\"Confidence\", row=1, col=1, secondary_y=True)\n",
    "        fig.update_yaxes(title_text=\"Processing Time (s)\", row=2, col=1)\n",
    "        fig.update_yaxes(title_text=\"Count\", row=2, col=2)\n",
    "        \n",
    "        return fig\n",
    "    \n",
    "    def check_system_alerts(self, df):\n",
    "        \"\"\"Check for system alerts and anomalies\"\"\"\n",
    "        alerts = {'critical': 0, 'warning': 0, 'info': 0, 'total': 0}\n",
    "        \n",
    "        # Check processing time SLA\n",
    "        high_processing_time = df[df['processing_time'] > 0.5]\n",
    "        if len(high_processing_time) > len(df) * 0.1:  # More than 10%\n",
    "            alerts['critical'] += 1\n",
    "        \n",
    "        # Check confidence distribution\n",
    "        low_confidence = df[df['confidence'] < 0.6]\n",
    "        if len(low_confidence) > len(df) * 0.2:  # More than 20%\n",
    "            alerts['warning'] += 1\n",
    "        \n",
    "        # Check prediction rate anomalies\n",
    "        recent_hour = df[df['timestamp'] > (datetime.now() - timedelta(hours=1))]\n",
    "        if len(recent_hour) == 0:\n",
    "            alerts['critical'] += 1\n",
    "        elif len(recent_hour) < 5:  # Less than 5 predictions in last hour\n",
    "            alerts['warning'] += 1\n",
    "        \n",
    "        # Check for fake news spike\n",
    "        fake_rate = len(df[df['prediction'] == 'fake']) / len(df) if len(df) > 0 else 0\n",
    "        if fake_rate > 0.6:  # More than 60% fake\n",
    "            alerts['warning'] += 1\n",
    "        \n",
    "        alerts['total'] = alerts['critical'] + alerts['warning'] + alerts['info']\n",
    "        return alerts\n",
    "    \n",
    "    def generate_performance_report(self, df):\n",
    "        \"\"\"Generate detailed performance report\"\"\"\n",
    "        report = {\n",
    "            'timestamp': datetime.now().isoformat(),\n",
    "            'total_predictions': len(df),\n",
    "            'time_period': f\"{df['timestamp'].min()} to {df['timestamp'].max()}\",\n",
    "            'prediction_distribution': df['prediction'].value_counts().to_dict(),\n",
    "            'avg_confidence': df['confidence'].mean(),\n",
    "            'avg_processing_time': df['processing_time'].mean(),\n",
    "            'max_processing_time': df['processing_time'].max(),\n",
    "            'sla_compliance': len(df[df['processing_time'] <= 0.5]) / len(df) * 100,\n",
    "            'confidence_quartiles': df['confidence'].quantile([0.25, 0.5, 0.75]).to_dict(),\n",
    "            'hourly_distribution': df['timestamp'].dt.hour.value_counts().sort_index().to_dict()\n",
    "        }\n",
    "        \n",
    "        return report\n",
    "    \n",
    "    def export_monitoring_data(self, df, filename=None):\n",
    "        \"\"\"Export monitoring data for further analysis\"\"\"\n",
    "        if filename is None:\n",
    "            filename = f\"monitoring_data_{datetime.now().strftime('%Y%m%d_%H%M%S')}.csv\"\n",
    "        \n",
    "        # Add derived metrics\n",
    "        export_df = df.copy()\n",
    "        export_df['hour'] = export_df['timestamp'].dt.hour\n",
    "        export_df['minute'] = export_df['timestamp'].dt.minute\n",
    "        export_df['day_of_week'] = export_df['timestamp'].dt.day_name()\n",
    "        export_df['is_fake'] = (export_df['prediction'] == 'fake').astype(int)\n",
    "        export_df['high_confidence'] = (export_df['confidence'] > 0.8).astype(int)\n",
    "        export_df['slow_processing'] = (export_df['processing_time'] > 0.5).astype(int)\n",
    "        \n",
    "        export_df.to_csv(filename, index=False)\n",
    "        print(f\"Monitoring data exported to {filename}\")\n",
    "        \n",
    "        return filename\n",
    "\n",
    "# Initialize monitor\n",
    "monitor = RealTimeMonitor()\n",
    "\n",
    "# Generate sample real-time data\n",
    "print(\"Generating sample real-time monitoring data...\")\n",
    "df = monitor.simulate_real_time_data(n_points=200)\n",
    "\n",
    "# Display basic statistics\n",
    "print(\"\\n=== System Overview ===\")\n",
    "print(f\"Total Predictions: {len(df)}\")\n",
    "print(f\"Time Range: {df['timestamp'].min()} to {df['timestamp'].max()}\")\n",
    "print(f\"Fake News Rate: {len(df[df['prediction'] == 'fake']) / len(df) * 100:.1f}%\")\n",
    "print(f\"Average Confidence: {df['confidence'].mean():.3f}\")\n",
    "print(f\"Average Processing Time: {df['processing_time'].mean():.3f}s\")\n",
    "\n",
    "# Check alerts\n",
    "alerts = monitor.check_system_alerts(df)\n",
    "print(f\"\\n=== Alert Status ===\")\n",
    "print(f\"Critical Alerts: {alerts['critical']}\")\n",
    "print(f\"Warning Alerts: {alerts['warning']}\")\n",
    "print(f\"Total Active Alerts: {alerts['total']}\")\n",
    "\n",
    "# Create and display dashboard\n",
    "print(\"\\n=== Real-Time Dashboard ===\")\n",
    "dashboard = monitor.create_real_time_dashboard(df)\n",
    "dashboard.show()\n",
    "\n",
    "# Generate performance report\n",
    "report = monitor.generate_performance_report(df)\n",
    "print(\"\\n=== Performance Report ===\")\n",
    "print(json.dumps(report, indent=2, default=str))\n",
    "\n",
    "# Export data\n",
    "export_file = monitor.export_monitoring_data(df)\n",
    "print(f\"\\nData exported to: {export_file}\")"
   ]
  }
 ],
 "metadata": {
  "kernelspec": {
   "display_name": "Python 3 (ipykernel)",
   "language": "python",
   "name": "python3"
  },
  "language_info": {
   "codemirror_mode": {
    "name": "ipython",
    "version": 3
   },
   "file_extension": ".py",
   "mimetype": "text/x-python",
   "name": "python",
   "nbconvert_exporter": "python",
   "pygments_lexer": "ipython3",
   "version": "3.12.11"
  }
 },
 "nbformat": 4,
 "nbformat_minor": 5
}
