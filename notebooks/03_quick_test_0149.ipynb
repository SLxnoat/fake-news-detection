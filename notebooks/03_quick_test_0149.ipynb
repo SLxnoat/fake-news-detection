{
 "cells": [
  {
   "cell_type": "code",
   "execution_count": 5,
   "id": "80a263bf-100c-4615-9c6b-f43e817fe159",
   "metadata": {},
   "outputs": [
    {
     "name": "stdout",
     "output_type": "stream",
     "text": [
      "🚀 QUICK TEST - Member 0149\n",
      "========================================\n"
     ]
    }
   ],
   "source": [
    "import pandas as pd\n",
    "import numpy as np\n",
    "import sys\n",
    "import os\n",
    "sys.path.append(os.path.join(os.getcwd(), '../src'))\n",
    "\n",
    "from models.baseline_models_0149 import BaselineModels\n",
    "import pickle\n",
    "\n",
    "print(\"🚀 QUICK TEST - Member 0149\")\n",
    "print(\"=\" * 40)"
   ]
  },
  {
   "cell_type": "code",
   "execution_count": 8,
   "id": "29706259-cce3-43aa-93ed-9c91a8812472",
   "metadata": {},
   "outputs": [
    {
     "name": "stdout",
     "output_type": "stream",
     "text": [
      "\\n Test 1: Data Loading\n",
      " Training data loaded: (10240, 14)\n",
      "   Sample labels: label\n",
      "half-true      2114\n",
      "false          1995\n",
      "mostly-true    1962\n",
      "true           1676\n",
      "barely-true    1654\n",
      "Name: count, dtype: int64\n"
     ]
    }
   ],
   "source": [
    "# Test 1: Data Loading\n",
    "print(\"\\\\n Test 1: Data Loading\")\n",
    "try:\n",
    "    train_df = pd.read_csv('../data/processed/train_processed.csv')\n",
    "    print(f\" Training data loaded: {train_df.shape}\")\n",
    "    print(f\"   Sample labels: {train_df['label'].value_counts().head()}\")\n",
    "except Exception as e:\n",
    "    print(f\" Data loading failed: {e}\")\n"
   ]
  },
  {
   "cell_type": "code",
   "execution_count": 15,
   "id": "160813c4-2b34-40cd-9d96-003e49198b94",
   "metadata": {},
   "outputs": [
    {
     "name": "stdout",
     "output_type": "stream",
     "text": [
      "\\n🔧 Test 2: Text Preprocessing\n",
      "Original: 'This is a TEST statement with NUMBERS 123!'\n",
      "Cleaned:  'this is a test statement with numbers'\n",
      "\n",
      "Original: 'The president said something important today.'\n",
      "Cleaned:  'the president said something important today'\n",
      "\n",
      "Original: ''\n",
      "Cleaned:  ''\n",
      "\n"
     ]
    }
   ],
   "source": [
    "# Test 2: Text Preprocessing\n",
    "print(\"\\\\n🔧 Test 2: Text Preprocessing\")\n",
    "baseline = BaselineModels()\n",
    "test_texts = [\n",
    "    \"This is a TEST statement with NUMBERS 123!\",\n",
    "    \"The president said something important today.\",\n",
    "    \"\"\n",
    "]\n",
    "\n",
    "for text in test_texts:\n",
    "    clean_text = baseline.preprocessor.clean_text(text)\n",
    "    print(f\"Original: '{text}'\")\n",
    "    print(f\"Cleaned:  '{clean_text}'\")\n",
    "    print()"
   ]
  },
  {
   "cell_type": "code",
   "execution_count": 17,
   "id": "fb5bb01d-1e1b-46b4-bd25-4490285ea25b",
   "metadata": {},
   "outputs": [
    {
     "name": "stdout",
     "output_type": "stream",
     "text": [
      "\\n🏋️ Test 3: Quick Model Training\n",
      "Sample size: 1000\n",
      "Label distribution: {3: 207, 4: 201, 1: 185, 2: 167, 5: 166, 0: 74}\n"
     ]
    }
   ],
   "source": [
    " #Test 3: Quick Model Training (small sample)\n",
    "print(\"\\\\n Test 3: Quick Model Training\")\n",
    "if 'train_df' in locals():\n",
    "    # Use small sample for quick test\n",
    "    sample_df = train_df.sample(n=1000, random_state=42)\n",
    "    \n",
    "    X_sample = baseline.preprocessor.preprocess_texts(sample_df['statement'])\n",
    "    y_sample = [baseline.label_mapping.get(label, 0) for label in sample_df['label']]\n",
    "    \n",
    "    print(f\"Sample size: {len(X_sample)}\")\n",
    "    print(f\"Label distribution: {pd.Series(y_sample).value_counts().to_dict()}\")"
   ]
  },
  {
   "cell_type": "code",
   "execution_count": 20,
   "id": "bc8199c5-a1dc-45e3-b9d6-99e94379b051",
   "metadata": {},
   "outputs": [
    {
     "name": "stdout",
     "output_type": "stream",
     "text": [
      " TF-IDF + Logistic Regression pipeline created\n",
      " TF-IDF + Random Forest pipeline created\n"
     ]
    }
   ],
   "source": [
    "  # Test TF-IDF pipeline creation\n",
    "try:\n",
    "        tfidf_lr = baseline.create_tfidf_logistic_model()\n",
    "        print(\" TF-IDF + Logistic Regression pipeline created\")\n",
    "        \n",
    "        tfidf_rf = baseline.create_tfidf_rf_model() \n",
    "        print(\" TF-IDF + Random Forest pipeline created\")\n",
    "except Exception as e:\n",
    "        print(f\" Pipeline creation failed: {e}\")"
   ]
  },
  {
   "cell_type": "code",
   "execution_count": 23,
   "id": "c156b03a-d4be-40b7-b251-865f1185bb8a",
   "metadata": {},
   "outputs": [
    {
     "name": "stdout",
     "output_type": "stream",
     "text": [
      "\\n Test 4: Model Loading\n",
      " models/baseline/tfidf_logistic_0149.pkl not found (not trained yet)\n",
      " models/baseline/tfidf_rf_0149.pkl not found (not trained yet)\n",
      "\\n Quick test completed!\n"
     ]
    }
   ],
   "source": [
    "# Test 4: Model Loading (if models exist)\n",
    "print(\"\\\\n Test 4: Model Loading\")\n",
    "model_files = [\n",
    "    'models/baseline/tfidf_logistic_0149.pkl',\n",
    "    'models/baseline/tfidf_rf_0149.pkl'\n",
    "]\n",
    "\n",
    "for model_file in model_files:\n",
    "    try:\n",
    "        with open(model_file, 'rb') as f:\n",
    "            model = pickle.load(f)\n",
    "        print(f\" {model_file} loaded successfully\")\n",
    "\n",
    "        # Quick prediction test\n",
    "        test_statement = \"The economy is doing great\"\n",
    "        pred = model.predict([test_statement])[0]\n",
    "        prob = max(model.predict_proba([test_statement])[0])\n",
    "        print(f\"   Test prediction: {baseline.reverse_label_mapping[pred]} (confidence: {prob:.3f})\")\n",
    "        \n",
    "    except FileNotFoundError:\n",
    "        print(f\" {model_file} not found (not trained yet)\")\n",
    "    except Exception as e:\n",
    "        print(f\" {model_file} loading failed: {e}\")\n",
    "\n",
    "print(\"\\\\n Quick test completed!\")\n",
    "        "
   ]
  },
  {
   "cell_type": "code",
   "execution_count": null,
   "id": "6b1e70cc-48d6-47ac-83f6-4582847a4bde",
   "metadata": {},
   "outputs": [],
   "source": []
  }
 ],
 "metadata": {
  "kernelspec": {
   "display_name": "Python 3 (ipykernel)",
   "language": "python",
   "name": "python3"
  },
  "language_info": {
   "codemirror_mode": {
    "name": "ipython",
    "version": 3
   },
   "file_extension": ".py",
   "mimetype": "text/x-python",
   "name": "python",
   "nbconvert_exporter": "python",
   "pygments_lexer": "ipython3",
   "version": "3.12.11"
  }
 },
 "nbformat": 4,
 "nbformat_minor": 5
}
