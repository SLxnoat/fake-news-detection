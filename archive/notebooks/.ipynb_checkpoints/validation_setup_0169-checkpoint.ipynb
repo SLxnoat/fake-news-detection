{
 "cells": [
  {
   "cell_type": "code",
   "execution_count": 2,
   "id": "f957c2fc-15de-4329-932e-5f627f0898a7",
   "metadata": {},
   "outputs": [
    {
     "ename": "ImportError",
     "evalue": "cannot import name 'validator_0169' from 'model_validator_0169' (C:\\Users\\Malki Madushi\\fake-news-detection\\notebooks\\../src/evaluation\\model_validator_0169.py)",
     "output_type": "error",
     "traceback": [
      "\u001b[31m---------------------------------------------------------------------------\u001b[39m",
      "\u001b[31mImportError\u001b[39m                               Traceback (most recent call last)",
      "\u001b[36mCell\u001b[39m\u001b[36m \u001b[39m\u001b[32mIn[2]\u001b[39m\u001b[32m, line 13\u001b[39m\n\u001b[32m     10\u001b[39m \u001b[38;5;28;01mimport\u001b[39;00m\u001b[38;5;250m \u001b[39m\u001b[34;01mseaborn\u001b[39;00m\u001b[38;5;250m \u001b[39m\u001b[38;5;28;01mas\u001b[39;00m\u001b[38;5;250m \u001b[39m\u001b[34;01msns\u001b[39;00m\n\u001b[32m     12\u001b[39m \u001b[38;5;66;03m# Valid imports using Python-compatible names\u001b[39;00m\n\u001b[32m---> \u001b[39m\u001b[32m13\u001b[39m \u001b[38;5;28;01mfrom\u001b[39;00m\u001b[38;5;250m \u001b[39m\u001b[34;01mmodel_validator_0169\u001b[39;00m\u001b[38;5;250m \u001b[39m\u001b[38;5;28;01mimport\u001b[39;00m validator_0169  \u001b[38;5;66;03m# Assuming renamed file/function\u001b[39;00m\n\u001b[32m     14\u001b[39m \u001b[38;5;28;01mfrom\u001b[39;00m\u001b[38;5;250m \u001b[39m\u001b[34;01mtest_framework\u001b[39;00m\u001b[38;5;250m \u001b[39m\u001b[38;5;28;01mimport\u001b[39;00m run_all_tests\n\u001b[32m     16\u001b[39m \u001b[38;5;66;03m# Set plotting style\u001b[39;00m\n",
      "\u001b[31mImportError\u001b[39m: cannot import name 'validator_0169' from 'model_validator_0169' (C:\\Users\\Malki Madushi\\fake-news-detection\\notebooks\\../src/evaluation\\model_validator_0169.py)"
     ]
    }
   ],
   "source": [
    "import sys\n",
    "import os\n",
    "\n",
    "# Correct path configuration (appends directory, not file)\n",
    "sys.path.append(os.path.join(os.getcwd(), 'src/evaluation'))\n",
    "\n",
    "import pandas as pd\n",
    "import numpy as np\n",
    "import matplotlib.pyplot as plt\n",
    "import seaborn as sns\n",
    "\n",
    "# Valid imports using Python-compatible names\n",
    "from model_validator_0169 import validator_0169  # Assuming renamed file/function\n",
    "from test_framework import run_all_tests\n",
    "\n",
    "# Set plotting style\n",
    "plt.style.use('seaborn-v0_8')\n",
    "sns.set_palette(\"husl\")\n",
    "\n",
    "print(\"Day 1: Validation Framework Setup\")\n",
    "print(\"Member 0169 - Model Evaluation & Deployment\")\n",
    "\n",
    "# Execute tests\n",
    "run_all_tests()"
   ]
  },
  {
   "cell_type": "code",
   "execution_count": null,
   "id": "3c80d336-d4fa-4d68-8068-03186f328fab",
   "metadata": {},
   "outputs": [],
   "source": []
  },
  {
   "cell_type": "code",
   "execution_count": null,
   "id": "10c78f53-0631-4fef-aa3f-3e3c81672bbd",
   "metadata": {},
   "outputs": [],
   "source": []
  }
 ],
 "metadata": {
  "kernelspec": {
   "display_name": "Python 3 (ipykernel)",
   "language": "python",
   "name": "python3"
  },
  "language_info": {
   "codemirror_mode": {
    "name": "ipython",
    "version": 3
   },
   "file_extension": ".py",
   "mimetype": "text/x-python",
   "name": "python",
   "nbconvert_exporter": "python",
   "pygments_lexer": "ipython3",
   "version": "3.12.11"
  }
 },
 "nbformat": 4,
 "nbformat_minor": 5
}
