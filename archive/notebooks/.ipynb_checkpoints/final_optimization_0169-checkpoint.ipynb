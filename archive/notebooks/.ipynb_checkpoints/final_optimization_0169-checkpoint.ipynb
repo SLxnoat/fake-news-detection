{
 "cells": [
  {
   "cell_type": "code",
   "execution_count": 12,
   "id": "2a9bb3a4-17de-4416-8839-16dde6d9c773",
   "metadata": {},
   "outputs": [
    {
     "name": "stdout",
     "output_type": "stream",
     "text": [
      "Current directory: C:\\Users\\Malki Madushi\\fake-news-detection\\notebooks\n",
      "Added to path: C:\\Users\\Malki Madushi\\fake-news-detection\\src\n",
      "Day 4: Final Optimization and Integration\n",
      "Member 0169 - Model Evaluation & Deployment\n",
      "==================================================\n"
     ]
    }
   ],
   "source": [
    "# Final Setup\n",
    "import sys\n",
    "import os\n",
    "import pandas as pd\n",
    "import numpy as np\n",
    "import matplotlib.pyplot as plt\n",
    "\n",
    "# Get current directory (should be notebooks)\n",
    "current_dir = os.getcwd()\n",
    "print(f\"Current directory: {current_dir}\")\n",
    "\n",
    "# Add the src directory to path\n",
    "src_dir = os.path.abspath(os.path.join(current_dir, '../src'))\n",
    "sys.path.append(src_dir)\n",
    "print(f\"Added to path: {src_dir}\")\n",
    "\n",
    "# Corrected imports\n",
    "from deployment.model_deployment_0169 import ModelDeployment\n",
    "from deployment.inference_pipeline_0169 import InferencePipeline\n",
    "from deployment.performance_optimizer_0169 import PerformanceOptimizer\n",
    "\n",
    "print(\"Day 4: Final Optimization and Integration\")\n",
    "print(\"Member 0169 - Model Evaluation & Deployment\")\n",
    "print(\"=\"*50)"
   ]
  },
  {
   "cell_type": "code",
   "execution_count": 8,
   "id": "b1fd87f7-f378-4466-8e48-b4ea8e09ade1",
   "metadata": {},
   "outputs": [
    {
     "name": "stdout",
     "output_type": "stream",
     "text": [
      "Running final integration script...\n",
      "Integration script not found, running components individually...\n"
     ]
    }
   ],
   "source": [
    "# Run Final Integration Tests\n",
    "print(\"Running final integration script...\")\n",
    "\n",
    "# Import and run the integration script\n",
    "import os\n",
    "import subprocess\n",
    "\n",
    "script_path = '../scripts/final_integration.py'\n",
    "if os.path.exists(script_path):\n",
    "    # Run integration script\n",
    "    result = subprocess.run([sys.executable, script_path], \n",
    "                          capture_output=True, text=True, cwd='..')\n",
    "    \n",
    "    print(\"Integration Script Output:\")\n",
    "    print(result.stdout)\n",
    "    \n",
    "    if result.stderr:\n",
    "        print(\"Errors/Warnings:\")\n",
    "        print(result.stderr)\n",
    "        \n",
    "    print(f\"Return code: {result.returncode}\")\n",
    "else:\n",
    "    print(\"Integration script not found, running components individually...\")"
   ]
  },
  {
   "cell_type": "code",
   "execution_count": 9,
   "id": "234861bc-0ee2-42e1-9ce7-7fb966abda45",
   "metadata": {},
   "outputs": [
    {
     "name": "stdout",
     "output_type": "stream",
     "text": [
      "Could not load performance stats: name 'InferencePipeline' is not defined\n"
     ]
    }
   ],
   "source": [
    "# Cell 3: Performance Summary\n",
    "# Load and display final performance metrics\n",
    "try:\n",
    "    # Initialize systems\n",
    "    pipeline = InferencePipeline('../models')\n",
    "    pipeline.initialize()\n",
    "    \n",
    "    # Get current performance stats\n",
    "    stats = pipeline.get_performance_stats()\n",
    "    \n",
    "    print(\"Final Performance Summary:\")\n",
    "    print(\"-\" * 30)\n",
    "    print(f\"Total Predictions Made: {stats['total_predictions']}\")\n",
    "    print(f\"Success Rate: {stats['success_rate']:.3f}\")\n",
    "    print(f\"Average Response Time: {stats['average_response_time']:.4f}s\")\n",
    "    \n",
    "    if stats['total_predictions'] > 0:\n",
    "        print(f\"Response Time P95: {stats.get('response_time_p95', 'N/A')}\")\n",
    "        print(f\"Response Time P99: {stats.get('response_time_p99', 'N/A')}\")\n",
    "    \n",
    "    # System health\n",
    "    health = pipeline.deployment.health_check()\n",
    "    print(f\"System Health: {health['status']}\")\n",
    "    \n",
    "except Exception as e:\n",
    "    print(f\"Could not load performance stats: {e}\")"
   ]
  },
  {
   "cell_type": "code",
   "execution_count": 10,
   "id": "6ab47007-e9c8-48e1-a525-3ec80b363bb4",
   "metadata": {},
   "outputs": [
    {
     "name": "stderr",
     "output_type": "stream",
     "text": [
      "WARNING:deployment.model_deployment_0169:Model file not found: ../models\\baseline/tfidf_logistic.pkl\n",
      "WARNING:deployment.model_deployment_0169:Model file not found: ../models\\baseline/tfidf_rf.pkl\n",
      "WARNING:deployment.model_deployment_0169:Model file not found: ../models\\hybrid/best_hybrid_model.pth\n",
      "INFO:deployment.model_deployment_0169:Loaded 0 models successfully\n"
     ]
    },
    {
     "name": "stdout",
     "output_type": "stream",
     "text": [
      "Final System Validation:\n",
      "-------------------------\n",
      "Validation error: name 'InferencePipeline' is not defined\n",
      "❌ Model Deployment\n",
      "❌ Inference Pipeline\n",
      "❌ Web Application\n",
      "❌ Performance Monitoring\n",
      "❌ Error Handling\n",
      "\n",
      "Overall Status: ⚠️  NEEDS ATTENTION\n"
     ]
    }
   ],
   "source": [
    "# Final Validation\n",
    "print(\"Final System Validation:\")\n",
    "print(\"-\" * 25)\n",
    "\n",
    "validation_results = {\n",
    "    'Model Deployment': '❌',\n",
    "    'Inference Pipeline': '❌', \n",
    "    'Web Application': '❌',\n",
    "    'Performance Monitoring': '❌',\n",
    "    'Error Handling': '❌'\n",
    "}\n",
    "\n",
    "try:\n",
    "    # Test model deployment\n",
    "    deployment = ModelDeployment('../models')\n",
    "    models_loaded = deployment.load_all_models()\n",
    "    if models_loaded > 0:\n",
    "        validation_results['Model Deployment'] = '✅'\n",
    "    \n",
    "    # Test inference pipeline\n",
    "    pipeline = InferencePipeline('../models')\n",
    "    init_result = pipeline.initialize()\n",
    "    if init_result.get('models_loaded', 0) > 0:\n",
    "        validation_results['Inference Pipeline'] = '✅'\n",
    "    \n",
    "    # Test web application components\n",
    "    import streamlit\n",
    "    validation_results['Web Application'] = '✅'\n",
    "    \n",
    "    # Test performance monitoring\n",
    "    stats = pipeline.get_performance_stats()\n",
    "    validation_results['Performance Monitoring'] = '✅'\n",
    "    \n",
    "    # Test error handling\n",
    "    error_result = pipeline.predict(\"\")  # Empty input\n",
    "    if 'error' in error_result or error_result.get('prediction'):\n",
    "        validation_results['Error Handling'] = '✅'\n",
    "        \n",
    "except Exception as e:\n",
    "    print(f\"Validation error: {e}\")\n",
    "\n",
    "# Display results\n",
    "for component, status in validation_results.items():\n",
    "    print(f\"{status} {component}\")\n",
    "\n",
    "overall_status = \"✅ READY FOR DEPLOYMENT\" if all(status == '✅' for status in validation_results.values()) else \"⚠️  NEEDS ATTENTION\"\n",
    "print(f\"\\nOverall Status: {overall_status}\")"
   ]
  },
  {
   "cell_type": "code",
   "execution_count": 11,
   "id": "e12f4aed-d785-41d2-9910-a714b345bc7e",
   "metadata": {},
   "outputs": [
    {
     "name": "stdout",
     "output_type": "stream",
     "text": [
      "Generating final documentation...\n",
      "\n",
      "📋 Deliverables Summary:\n",
      "=========================\n",
      "\n",
      "Source Code Files:\n",
      "  ❌ src/evaluation/model_validator.py\n",
      "  ❌ src/evaluation/performance_metrics.py\n",
      "  ❌ src/evaluation/test_framework.py\n",
      "  ❌ src/deployment/model_deployment.py\n",
      "  ❌ src/deployment/inference_pipeline.py\n",
      "  ❌ src/deployment/performance_optimizer.py\n",
      "\n",
      "Application Files:\n",
      "  ❌ app/streamlit_app.py\n",
      "\n",
      "Notebooks:\n",
      "  ❌ notebooks/day1_validation_setup.ipynb\n",
      "  ❌ notebooks/day2_cross_validation.ipynb\n",
      "  ❌ notebooks/day3_deployment.ipynb\n",
      "  ❌ notebooks/day4_final_optimization.ipynb\n",
      "\n",
      "Scripts:\n",
      "  ❌ scripts/final_integration.py\n",
      "\n",
      "Reports:\n",
      "  ❌ results/reports/performance_report.md\n",
      "  ❌ results/reports/member_0169_final_report.md\n",
      "\n",
      "Total files completed: 0\n",
      "Completion rate: 0.0%\n"
     ]
    }
   ],
   "source": [
    "# Cell 5: Generate Final Documentation\n",
    "print(\"Generating final documentation...\")\n",
    "\n",
    "# Create a summary of all deliverables\n",
    "deliverables = {\n",
    "    'Source Code Files': [\n",
    "        'src/evaluation/model_validator.py',\n",
    "        'src/evaluation/performance_metrics.py', \n",
    "        'src/evaluation/test_framework.py',\n",
    "        'src/deployment/model_deployment.py',\n",
    "        'src/deployment/inference_pipeline.py',\n",
    "        'src/deployment/performance_optimizer.py'\n",
    "    ],\n",
    "    'Application Files': [\n",
    "        'app/streamlit_app.py'\n",
    "    ],\n",
    "    'Notebooks': [\n",
    "        'notebooks/day1_validation_setup.ipynb',\n",
    "        'notebooks/day2_cross_validation.ipynb',\n",
    "        'notebooks/day3_deployment.ipynb', \n",
    "        'notebooks/day4_final_optimization.ipynb'\n",
    "    ],\n",
    "    'Scripts': [\n",
    "        'scripts/final_integration.py'\n",
    "    ],\n",
    "    'Reports': [\n",
    "        'results/reports/performance_report.md',\n",
    "        'results/reports/member_0169_final_report.md'\n",
    "    ]\n",
    "}\n",
    "\n",
    "print(\"\\n📋 Deliverables Summary:\")\n",
    "print(\"=\" * 25)\n",
    "\n",
    "total_files = 0\n",
    "for category, files in deliverables.items():\n",
    "    print(f\"\\n{category}:\")\n",
    "    for file in files:\n",
    "        exists = \"✅\" if os.path.exists(f\"../{file}\") else \"❌\"\n",
    "        print(f\"  {exists} {file}\")\n",
    "        if exists == \"✅\":\n",
    "            total_files += 1\n",
    "\n",
    "print(f\"\\nTotal files completed: {total_files}\")\n",
    "print(f\"Completion rate: {total_files/sum(len(files) for files in deliverables.values())*100:.1f}%\")"
   ]
  },
  {
   "cell_type": "code",
   "execution_count": null,
   "id": "5941d0a6-c834-424d-869b-fc910be40935",
   "metadata": {},
   "outputs": [],
   "source": []
  }
 ],
 "metadata": {
  "kernelspec": {
   "display_name": "Python 3 (ipykernel)",
   "language": "python",
   "name": "python3"
  },
  "language_info": {
   "codemirror_mode": {
    "name": "ipython",
    "version": 3
   },
   "file_extension": ".py",
   "mimetype": "text/x-python",
   "name": "python",
   "nbconvert_exporter": "python",
   "pygments_lexer": "ipython3",
   "version": "3.12.11"
  }
 },
 "nbformat": 4,
 "nbformat_minor": 5
}
