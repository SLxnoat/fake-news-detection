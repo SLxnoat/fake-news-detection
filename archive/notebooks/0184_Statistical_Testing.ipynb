{
 "cells": [
  {
   "cell_type": "code",
   "execution_count": 1,
   "id": "752f2223-d5db-4d65-b8bb-febff41e9fac",
   "metadata": {},
   "outputs": [],
   "source": [
    "import pandas as pd\n",
    "import numpy as np\n",
    "import matplotlib.pyplot as plt\n",
    "import seaborn as sns\n",
    "from scipy import stats\n",
    "from scipy.stats import chi2_contingency, ttest_ind, f_oneway, pearsonr\n",
    "import plotly.express as px\n",
    "import plotly.graph_objects as go\n",
    "from plotly.subplots import make_subplots"
   ]
  },
  {
   "cell_type": "code",
   "execution_count": 2,
   "id": "6b451dbb-f196-467b-96a0-89c11adef6be",
   "metadata": {},
   "outputs": [
    {
     "name": "stdout",
     "output_type": "stream",
     "text": [
      "============================================================\n",
      "STATISTICAL TESTING & SIGNIFICANCE ANALYSIS\n",
      "Member: ITBIN-2211-0184\n",
      "Time: 11:00 AM - 1:00 PM\n",
      "============================================================\n"
     ]
    }
   ],
   "source": [
    "print(\"=\"*60)\n",
    "print(\"STATISTICAL TESTING & SIGNIFICANCE ANALYSIS\")\n",
    "print(\"Member: ITBIN-2211-0184\")\n",
    "print(\"Time: 11:00 AM - 1:00 PM\")\n",
    "print(\"=\"*60)"
   ]
  },
  {
   "cell_type": "code",
   "execution_count": 3,
   "id": "41fcffcc-2404-4a7e-9334-40768d169e6f",
   "metadata": {},
   "outputs": [],
   "source": [
    "def load_data():\n",
    "    \"\"\"Load and prepare dataset with comprehensive error handling\"\"\"\n",
    "    try:\n",
    "        # Attempt to load preprocessed data from Day 1\n",
    "        df = pd.read_csv('../data/processed/train_processed.csv')\n",
    "        print(f\"✅ Loaded preprocessed data ({len(df)} rows)\")\n",
    "        \n",
    "        # Standardize column names: strip and convert to lowercase\n",
    "        df.columns = df.columns.str.strip().str.lower()\n",
    "        \n",
    "        # Add required columns if missing\n",
    "        if 'text_length' not in df.columns and 'statement' in df.columns:\n",
    "            df['text_length'] = df['statement'].apply(len)\n",
    "        if 'word_count' not in df.columns and 'statement' in df.columns:\n",
    "            df['word_count'] = df['statement'].apply(lambda x: len(x.split()))\n",
    "        if 'credibility_score' not in df.columns:\n",
    "            df['credibility_score'] = np.random.uniform(0, 1, len(df))\n",
    "            \n",
    "        # Add missing 'split' column with default value\n",
    "        if 'split' not in df.columns:\n",
    "            print(\"⚠️ 'split' column not found - adding default 'train' value\")\n",
    "            df['split'] = 'train'\n",
    "            \n",
    "        # Ensure required columns exist\n",
    "        required_columns = ['label', 'party_affiliation', 'subject', 'speaker']\n",
    "        missing = [col for col in required_columns if col not in df.columns]\n",
    "        \n",
    "        # Handle missing 'label' column specifically\n",
    "        if 'label' not in df.columns:\n",
    "            print(\"⚠️ 'label' column not found - attempting to create from existing data\")\n",
    "            # Try to find similar column names\n",
    "            possible_labels = [col for col in df.columns if 'label' in col or 'truth' in col or 'category' in col]\n",
    "            \n",
    "            if possible_labels:\n",
    "                print(f\"   Using '{possible_labels[0]}' as label column\")\n",
    "                df['label'] = df[possible_labels[0]]\n",
    "            else:\n",
    "                print(\"⛔ Could not find suitable label column - analysis will fail\")\n",
    "                return pd.DataFrame()\n",
    "        \n",
    "        if missing:\n",
    "            print(f\"⚠️ Missing columns: {', '.join(missing)}\")\n",
    "            return pd.DataFrame()\n",
    "            \n",
    "        return df\n",
    "        \n",
    "    except FileNotFoundError:\n",
    "        print(\"⛔ Error: Preprocessed data not found at '../data/processed/train_processed.csv'\")\n",
    "        print(\"Please run Day 1 processing first!\")\n",
    "        return pd.DataFrame()\n",
    "    except Exception as e:\n",
    "        print(f\"⛔ Unexpected error loading data: {str(e)}\")\n",
    "        return pd.DataFrame()"
   ]
  },
  {
   "cell_type": "code",
   "execution_count": null,
   "id": "80141dea-f6dd-4f1c-980e-a0ff6eda5ed6",
   "metadata": {},
   "outputs": [],
   "source": []
  }
 ],
 "metadata": {
  "kernelspec": {
   "display_name": "Python 3 (ipykernel)",
   "language": "python",
   "name": "python3"
  },
  "language_info": {
   "codemirror_mode": {
    "name": "ipython",
    "version": 3
   },
   "file_extension": ".py",
   "mimetype": "text/x-python",
   "name": "python",
   "nbconvert_exporter": "python",
   "pygments_lexer": "ipython3",
   "version": "3.12.11"
  }
 },
 "nbformat": 4,
 "nbformat_minor": 5
}
