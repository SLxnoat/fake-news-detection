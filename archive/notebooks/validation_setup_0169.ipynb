{
 "cells": [
  {
   "cell_type": "code",
   "execution_count": 3,
   "id": "f957c2fc-15de-4329-932e-5f627f0898a7",
   "metadata": {},
   "outputs": [
    {
     "name": "stdout",
     "output_type": "stream",
     "text": [
      "Day 1: Validation Framework Setup\n",
      "Member 0169 - Model Evaluation & Deployment\n"
     ]
    },
    {
     "data": {
      "text/plain": [
       "<function test_framework_0169.run_all_tests()>"
      ]
     },
     "execution_count": 3,
     "metadata": {},
     "output_type": "execute_result"
    }
   ],
   "source": [
    "import sys\n",
    "import os\n",
    "\n",
    "# Correct path configuration\n",
    "sys.path.append(os.path.join(os.getcwd(), '../src/evaluation'))\n",
    "\n",
    "import pandas as pd\n",
    "import numpy as np\n",
    "import matplotlib.pyplot as plt\n",
    "import seaborn as sns\n",
    "\n",
    "# Import the class and create an instance\n",
    "from model_validator_0169 import ModelValidator\n",
    "validator = ModelValidator()  # Create instance here\n",
    "\n",
    "from test_framework_0169 import run_all_tests\n",
    "\n",
    "# Set plotting style\n",
    "plt.style.use('seaborn-v0_8')\n",
    "sns.set_palette(\"husl\")\n",
    "\n",
    "print(\"Day 1: Validation Framework Setup\")\n",
    "print(\"Member 0169 - Model Evaluation & Deployment\")\n",
    "\n",
    "# Execute tests (assuming run_all_tests uses the validator instance)\n",
    "run_all_tests  # Pass validator instance if needed"
   ]
  },
  {
   "cell_type": "code",
   "execution_count": 4,
   "id": "3c80d336-d4fa-4d68-8068-03186f328fab",
   "metadata": {},
   "outputs": [
    {
     "name": "stdout",
     "output_type": "stream",
     "text": [
      "Dataset loaded successfully!\n",
      "Training set: (10240, 14)\n",
      "Test set: (1267, 14)\n",
      "Validation set: (1284, 14)\n"
     ]
    }
   ],
   "source": [
    "# Cell 2: Load and explore LIAR dataset\n",
    "# Load the datasets\n",
    "try:\n",
    "    train_df = pd.read_csv('../data/raw/train.tsv', sep='\\t', header=None)\n",
    "    test_df = pd.read_csv('../data/raw/test.tsv', sep='\\t', header=None) \n",
    "    valid_df = pd.read_csv('../data/raw/valid.tsv', sep='\\t', header=None)\n",
    "    \n",
    "    # Define column names based on LIAR dataset structure\n",
    "    columns = ['id', 'label', 'statement', 'subject', 'speaker', 'job', \n",
    "              'state', 'party', 'barely_true', 'false', 'half_true', \n",
    "              'mostly_true', 'pants_fire', 'context']\n",
    "    \n",
    "    train_df.columns = columns\n",
    "    test_df.columns = columns  \n",
    "    valid_df.columns = columns\n",
    "    \n",
    "    print(\"Dataset loaded successfully!\")\n",
    "    print(f\"Training set: {train_df.shape}\")\n",
    "    print(f\"Test set: {test_df.shape}\")\n",
    "    print(f\"Validation set: {valid_df.shape}\")\n",
    "    \n",
    "except FileNotFoundError as e:\n",
    "    print(f\"Error loading data: {e}\")\n",
    "    print(\"Please ensure the LIAR dataset files are in data/raw/\")"
   ]
  },
  {
   "cell_type": "code",
   "execution_count": 6,
   "id": "10c78f53-0631-4fef-aa3f-3e3c81672bbd",
   "metadata": {},
   "outputs": [
    {
     "name": "stdout",
     "output_type": "stream",
     "text": [
      "Label Distribution:\n",
      "label\n",
      "half-true      2114\n",
      "false          1995\n",
      "mostly-true    1962\n",
      "true           1676\n",
      "barely-true    1654\n",
      "pants-fire      839\n",
      "Name: count, dtype: int64\n",
      "\n",
      "Basic Statistics:\n",
      "Total samples: 10240\n",
      "Unique speakers: 2910\n",
      "Unique subjects: 3827\n"
     ]
    },
    {
     "data": {
      "image/png": "[encoded data removed]",
      "text/plain": [
       "<Figure size 1000x600 with 1 Axes>"
      ]
     },
     "metadata": {},
     "output_type": "display_data"
    }
   ],
   "source": [
    "#Basic data exploration\n",
    "import os\n",
    "import matplotlib.pyplot as plt\n",
    "\n",
    "# Create the directory structure if it doesn't exist\n",
    "os.makedirs('../results/plots/', exist_ok=True)\n",
    "\n",
    "# Basic data exploration\n",
    "if 'train_df' in locals():\n",
    "    print(\"Label Distribution:\")\n",
    "    print(train_df['label'].value_counts())\n",
    "    \n",
    "    print(\"\\nBasic Statistics:\")\n",
    "    print(f\"Total samples: {len(train_df)}\")\n",
    "    print(f\"Unique speakers: {train_df['speaker'].nunique()}\")\n",
    "    print(f\"Unique subjects: {train_df['subject'].nunique()}\")\n",
    "    \n",
    "    # Visualize label distribution\n",
    "    plt.figure(figsize=(10, 6))\n",
    "    train_df['label'].value_counts().plot(kind='bar')\n",
    "    plt.title('Distribution of Truth Labels in Training Set')\n",
    "    plt.xlabel('Truth Labels')\n",
    "    plt.ylabel('Count')\n",
    "    plt.xticks(rotation=45)\n",
    "    plt.tight_layout()\n",
    "    \n",
    "    # Save the plot - directory now exists\n",
    "    plt.savefig('../results/plots/label_distribution.png', dpi=300, bbox_inches='tight')\n",
    "    plt.show()"
   ]
  },
  {
   "cell_type": "code",
   "execution_count": 7,
   "id": "d9e05f59-7396-4c12-8fb3-de30a86ddc2b",
   "metadata": {},
   "outputs": [
    {
     "name": "stdout",
     "output_type": "stream",
     "text": [
      "Validation framework initialized!\n",
      "Cross-validation folds: 5\n",
      "Class names: ['true', 'mostly-true', 'half-true', 'barely-true', 'false', 'pants-fire']\n"
     ]
    }
   ],
   "source": [
    "#Initialize validation framework\n",
    "# Create validator instance\n",
    "validator = ModelValidator(cv_folds=5, random_state=42)\n",
    "\n",
    "# Define class names for LIAR dataset\n",
    "class_names = ['true', 'mostly-true', 'half-true', 'barely-true', 'false', 'pants-fire']\n",
    "\n",
    "print(\"Validation framework initialized!\")\n",
    "print(f\"Cross-validation folds: {validator.cv_folds}\")\n",
    "print(f\"Class names: {class_names}\")"
   ]
  },
  {
   "cell_type": "code",
   "execution_count": 8,
   "id": "a618f192-f8c1-4fe7-800c-f6d0ee9fba82",
   "metadata": {},
   "outputs": [
    {
     "name": "stderr",
     "output_type": "stream",
     "text": [
      "test_data_loading (test_framework_0169.TestDataPipeline.test_data_loading)\n",
      "Test data loading functionality ... ok\n",
      "test_no_null_statements (test_framework_0169.TestDataPipeline.test_no_null_statements)\n",
      "Test that statements are not null ... ok\n",
      "test_required_columns (test_framework_0169.TestDataPipeline.test_required_columns)\n",
      "Test if required columns exist ... ok\n",
      "test_model_prediction (test_framework_0169.TestModelPipeline.test_model_prediction)\n",
      "Test model can make predictions ... ok\n",
      "test_prediction_types (test_framework_0169.TestModelPipeline.test_prediction_types)\n",
      "Test prediction types are valid ... ok\n",
      "\n",
      "----------------------------------------------------------------------\n",
      "Ran 5 tests in 0.015s\n",
      "\n",
      "OK\n"
     ]
    },
    {
     "name": "stdout",
     "output_type": "stream",
     "text": [
      "Running basic tests...\n",
      "✅ All tests passed!\n"
     ]
    }
   ],
   "source": [
    "#Run basic tests\n",
    "print(\"Running basic tests...\")\n",
    "test_results = run_all_tests()\n",
    "\n",
    "if test_results:\n",
    "    print(\"✅ All tests passed!\")\n",
    "else:\n",
    "    print(\"❌ Some tests failed. Please check the test output above.\")"
   ]
  },
  {
   "cell_type": "code",
   "execution_count": null,
   "id": "abf03195-9c1a-4b47-b641-e963b04baa87",
   "metadata": {},
   "outputs": [],
   "source": []
  }
 ],
 "metadata": {
  "kernelspec": {
   "display_name": "Python 3 (ipykernel)",
   "language": "python",
   "name": "python3"
  },
  "language_info": {
   "codemirror_mode": {
    "name": "ipython",
    "version": 3
   },
   "file_extension": ".py",
   "mimetype": "text/x-python",
   "name": "python",
   "nbconvert_exporter": "python",
   "pygments_lexer": "ipython3",
   "version": "3.12.11"
  }
 },
 "nbformat": 4,
 "nbformat_minor": 5
}
